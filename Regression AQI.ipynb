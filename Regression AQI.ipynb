{
 "cells": [
  {
   "cell_type": "code",
   "execution_count": null,
   "metadata": {},
   "outputs": [],
   "source": [
    "import pandas as pd\n",
    "import numpy as np\n",
    "from sklearn.ensemble import RandomForestRegressor\n",
    "from sklearn.preprocessing import StandardScaler\n",
    "from sklearn.model_selection import train_test_split\n",
    "from sklearn import linear_model\n",
    "from sklearn import metrics\n",
    "import time\n",
    "import matplotlib.pyplot as plt"
   ]
  },
  {
   "cell_type": "code",
   "execution_count": null,
   "metadata": {},
   "outputs": [],
   "source": [
    "aqi_df = pd.read_csv('datasets/aqi_augmented.csv', index_col = 0)\n",
    "aqi_df.head()"
   ]
  },
  {
   "cell_type": "code",
   "execution_count": 90,
   "metadata": {},
   "outputs": [
    {
     "name": "stdout",
     "output_type": "stream",
     "text": [
      "(7243237, 33)\n"
     ]
    },
    {
     "data": {
      "text/plain": [
       "STATE_NAME                         0.000000\n",
       "COUNTY_CODE                        0.000000\n",
       "DATE                               0.000000\n",
       "AQI                                0.000000\n",
       "FIRES_COUNT_COUNTY_0_WEEK_PRIOR    0.000000\n",
       "FIRES_SIZE_COUNTY_0_WEEK_PRIOR     0.000000\n",
       "FIRES_COUNT_STATE_0_WEEK_PRIOR     0.000000\n",
       "FIRES_SIZE_STATE_0_WEEK_PRIOR      0.000000\n",
       "FIRES_COUNT_COUNTY_1_WEEK_PRIOR    0.000000\n",
       "FIRES_SIZE_COUNTY_1_WEEK_PRIOR     0.000000\n",
       "FIRES_COUNT_STATE_1_WEEK_PRIOR     0.000000\n",
       "FIRES_SIZE_STATE_1_WEEK_PRIOR      0.000000\n",
       "FIRES_COUNT_COUNTY_2_WEEK_PRIOR    0.000000\n",
       "FIRES_SIZE_COUNTY_2_WEEK_PRIOR     0.000000\n",
       "FIRES_COUNT_STATE_2_WEEK_PRIOR     0.000000\n",
       "FIRES_SIZE_STATE_2_WEEK_PRIOR      0.000000\n",
       "AQI_1_PRIOR                        0.000000\n",
       "AQI_2_PRIOR                        0.000000\n",
       "AQI_3_PRIOR                        0.000000\n",
       "AQI_1_DAY_OFFSET                   0.071659\n",
       "AQI_2_DAY_OFFSET                   0.071612\n",
       "AQI_3_DAY_OFFSET                   0.035406\n",
       "AQI_4_DAY_OFFSET                   0.073635\n",
       "AQI_5_DAY_OFFSET                   0.077919\n",
       "AQI_6_DAY_OFFSET                   0.020786\n",
       "AQI_7_DAY_OFFSET                   0.078126\n",
       "AQI_-1_DAY_OFFSET                  0.000000\n",
       "AQI_-7_DAY_OFFSET                  0.000000\n",
       "AQI_-6_DAY_OFFSET                  0.000000\n",
       "AQI_-5_DAY_OFFSET                  0.000000\n",
       "AQI_-4_DAY_OFFSET                  0.000000\n",
       "AQI_-3_DAY_OFFSET                  0.000000\n",
       "AQI_-2_DAY_OFFSET                  0.000000\n",
       "dtype: float64"
      ]
     },
     "execution_count": 90,
     "metadata": {},
     "output_type": "execute_result"
    }
   ],
   "source": [
    "# first see how many nulls are in each column\n",
    "print(aqi_df.shape)\n",
    "pd.isnull(aqi_df).sum()/aqi_df.shape[0]"
   ]
  },
  {
   "cell_type": "code",
   "execution_count": 91,
   "metadata": {},
   "outputs": [
    {
     "name": "stdout",
     "output_type": "stream",
     "text": [
      "(7243237, 33)\n"
     ]
    },
    {
     "data": {
      "text/plain": [
       "STATE_NAME                         0.000000\n",
       "COUNTY_CODE                        0.000000\n",
       "DATE                               0.000000\n",
       "AQI                                0.003814\n",
       "FIRES_COUNT_COUNTY_0_WEEK_PRIOR    0.940195\n",
       "FIRES_SIZE_COUNTY_0_WEEK_PRIOR     0.940195\n",
       "FIRES_COUNT_STATE_0_WEEK_PRIOR     0.516777\n",
       "FIRES_SIZE_STATE_0_WEEK_PRIOR      0.516777\n",
       "FIRES_COUNT_COUNTY_1_WEEK_PRIOR    0.940163\n",
       "FIRES_SIZE_COUNTY_1_WEEK_PRIOR     0.940163\n",
       "FIRES_COUNT_STATE_1_WEEK_PRIOR     0.516736\n",
       "FIRES_SIZE_STATE_1_WEEK_PRIOR      0.516736\n",
       "FIRES_COUNT_COUNTY_2_WEEK_PRIOR    0.940186\n",
       "FIRES_SIZE_COUNTY_2_WEEK_PRIOR     0.940186\n",
       "FIRES_COUNT_STATE_2_WEEK_PRIOR     0.516818\n",
       "FIRES_SIZE_STATE_2_WEEK_PRIOR      0.516818\n",
       "AQI_1_PRIOR                        0.003813\n",
       "AQI_2_PRIOR                        0.003813\n",
       "AQI_3_PRIOR                        0.003811\n",
       "AQI_1_DAY_OFFSET                   0.003666\n",
       "AQI_2_DAY_OFFSET                   0.003641\n",
       "AQI_3_DAY_OFFSET                   0.003696\n",
       "AQI_4_DAY_OFFSET                   0.003626\n",
       "AQI_5_DAY_OFFSET                   0.003603\n",
       "AQI_6_DAY_OFFSET                   0.003669\n",
       "AQI_7_DAY_OFFSET                   0.003600\n",
       "AQI_-1_DAY_OFFSET                  0.003939\n",
       "AQI_-7_DAY_OFFSET                  0.003806\n",
       "AQI_-6_DAY_OFFSET                  0.003793\n",
       "AQI_-5_DAY_OFFSET                  0.003853\n",
       "AQI_-4_DAY_OFFSET                  0.003853\n",
       "AQI_-3_DAY_OFFSET                  0.003851\n",
       "AQI_-2_DAY_OFFSET                  0.003942\n",
       "dtype: float64"
      ]
     },
     "execution_count": 91,
     "metadata": {},
     "output_type": "execute_result"
    }
   ],
   "source": [
    "# all see how many zeros show up in each column\n",
    "print(aqi_df.shape)\n",
    "(aqi_df == 0).sum()/aqi_df.shape[0]"
   ]
  },
  {
   "cell_type": "code",
   "execution_count": 4,
   "metadata": {},
   "outputs": [
    {
     "name": "stderr",
     "output_type": "stream",
     "text": [
      "C:\\Users\\Owner\\Anaconda3\\lib\\site-packages\\ipykernel_launcher.py:6: SettingWithCopyWarning: \n",
      "A value is trying to be set on a copy of a slice from a DataFrame\n",
      "\n",
      "See the caveats in the documentation: http://pandas.pydata.org/pandas-docs/stable/indexing.html#indexing-view-versus-copy\n",
      "  \n"
     ]
    }
   ],
   "source": [
    "# fill in previous days with a back-fill (can't have blank features)\n",
    "last = -7\n",
    "for d in range(-1, last -1, -1):\n",
    "    col_name = f'AQI_{d}_DAY_OFFSET'\n",
    "    prev_name = f'AQI_{d+1}_DAY_OFFSET' if d != -1 else 'AQI'\n",
    "    aqi_df[col_name][pd.isnull(aqi_df[col_name])] = aqi_df[prev_name][pd.isnull(aqi_df[col_name])]"
   ]
  },
  {
   "cell_type": "code",
   "execution_count": 5,
   "metadata": {},
   "outputs": [
    {
     "name": "stdout",
     "output_type": "stream",
     "text": [
      "(7243237, 33)\n"
     ]
    },
    {
     "data": {
      "text/plain": [
       "STATE_NAME                              0\n",
       "COUNTY_CODE                             0\n",
       "DATE                                    0\n",
       "AQI                                     0\n",
       "FIRES_COUNT_COUNTY_0_WEEK_PRIOR         0\n",
       "FIRES_SIZE_COUNTY_0_WEEK_PRIOR          0\n",
       "FIRES_COUNT_STATE_0_WEEK_PRIOR          0\n",
       "FIRES_SIZE_STATE_0_WEEK_PRIOR           0\n",
       "FIRES_COUNT_COUNTY_1_WEEK_PRIOR         0\n",
       "FIRES_SIZE_COUNTY_1_WEEK_PRIOR          0\n",
       "FIRES_COUNT_STATE_1_WEEK_PRIOR          0\n",
       "FIRES_SIZE_STATE_1_WEEK_PRIOR           0\n",
       "FIRES_COUNT_COUNTY_2_WEEK_PRIOR         0\n",
       "FIRES_SIZE_COUNTY_2_WEEK_PRIOR          0\n",
       "FIRES_COUNT_STATE_2_WEEK_PRIOR          0\n",
       "FIRES_SIZE_STATE_2_WEEK_PRIOR           0\n",
       "AQI_1_PRIOR                             0\n",
       "AQI_2_PRIOR                             0\n",
       "AQI_3_PRIOR                             0\n",
       "AQI_1_DAY_OFFSET                   519043\n",
       "AQI_2_DAY_OFFSET                   518703\n",
       "AQI_3_DAY_OFFSET                   256453\n",
       "AQI_4_DAY_OFFSET                   533355\n",
       "AQI_5_DAY_OFFSET                   564387\n",
       "AQI_6_DAY_OFFSET                   150555\n",
       "AQI_7_DAY_OFFSET                   565887\n",
       "AQI_-1_DAY_OFFSET                       0\n",
       "AQI_-7_DAY_OFFSET                       0\n",
       "AQI_-6_DAY_OFFSET                       0\n",
       "AQI_-5_DAY_OFFSET                       0\n",
       "AQI_-4_DAY_OFFSET                       0\n",
       "AQI_-3_DAY_OFFSET                       0\n",
       "AQI_-2_DAY_OFFSET                       0\n",
       "dtype: int64"
      ]
     },
     "execution_count": 5,
     "metadata": {},
     "output_type": "execute_result"
    }
   ],
   "source": [
    "# ensure the backfill made no nulls for negative offsets\n",
    "print(aqi_df.shape)\n",
    "pd.isnull(aqi_df).sum()"
   ]
  },
  {
   "cell_type": "code",
   "execution_count": 128,
   "metadata": {},
   "outputs": [
    {
     "name": "stdout",
     "output_type": "stream",
     "text": [
      "Training took 22.66 sec\n",
      "Evaluation took 20.89 sec\n"
     ]
    }
   ],
   "source": [
    "# random forest way too slow... RandomForestRegressor(n_estimators=1, max_depth=20, random_state=42, verbose=True)\n",
    "# lasso faster linear_model.Lasso(alpha=0.1)\n",
    "# linear regression fast linear_model.LinearRegression()\n",
    "def build_k_day_classifier(aqi_df, clf = linear_model.Lasso(alpha=0.3), k=1):\n",
    "    # find feature columns and label column\n",
    "    cols = set(aqi_df.columns)\n",
    "    features = list(cols - ({'STATE_NAME', 'COUNTY_CODE', 'DATE'} | {f'AQI_{i}_DAY_OFFSET' for i in range(1,8)}))\n",
    "    label = f'AQI_{k}_DAY_OFFSET'\n",
    "    \n",
    "    # remove all rows w/out label\n",
    "    mask = ~pd.isnull(aqi_df[label])\n",
    "    X = aqi_df.loc[mask, features].to_numpy()\n",
    "    y = aqi_df[label][mask].to_numpy()\n",
    "    \n",
    "    # do a split of data\n",
    "    indices = np.arange(X.shape[0])\n",
    "    np.random.shuffle(indices)\n",
    "    split = int(indices.shape[0]*.8)\n",
    "    \n",
    "    # do a scaling to improve speed convergence\n",
    "    sc = StandardScaler()\n",
    "    sc.fit(X[indices[:split]])\n",
    "    \n",
    "    # train\n",
    "    s = time.time()\n",
    "    clf.fit(sc.transform(X[indices[:split]]),\\\n",
    "            y[indices[:split]])\n",
    "    print(f'Training took {time.time()-s:.2f} sec')\n",
    "    \n",
    "    # evaluate\n",
    "    s = time.time()\n",
    "    y_test_pred = clf.predict(sc.transform(X[indices[split:]]))\n",
    "    y_train_pred = clf.predict(sc.transform(X[indices[:split]]))\n",
    "    print(f'Evaluation took {time.time()-s:.2f} sec')\n",
    "    \n",
    "    return clf,  y[indices[:split]], y_train_pred, y[indices[split:]], y_test_pred, features\n",
    "model_name = 'lasso'\n",
    "clf, y_train, y_train_pred, y_test, y_test_pred, features = build_k_day_classifier(aqi_df)"
   ]
  },
  {
   "cell_type": "code",
   "execution_count": 129,
   "metadata": {},
   "outputs": [
    {
     "name": "stdout",
     "output_type": "stream",
     "text": [
      "Results Train\n",
      "{'mean absolute error': 16.17606326858309, 'mean squared error': 1083.5303353569443, 'explained variance': 0.19966919524432558}\n",
      "{'mean test': 45.67439851060211, 'std test': 36.79474273444731, 'mean pred': 45.67439851060217, 'std pred': 16.01229280246581}\n",
      "Results Test\n",
      "{'mean absolute error': 16.171087489283135, 'mean squared error': 803.0279783731768, 'explained variance': 0.2486708404174922}\n",
      "{'mean test': 45.621284778326626, 'std test': 32.6926207829735, 'mean pred': 45.66338536984892, 'std pred': 16.467255351604283}\n"
     ]
    }
   ],
   "source": [
    "# now see how good it was\n",
    "def summary_results(y_test, y_pred):\n",
    "    result = {\n",
    "        'mean absolute error': metrics.mean_absolute_error(y_test, y_pred),\n",
    "        'mean squared error': metrics.mean_squared_error(y_test, y_pred),\n",
    "        'explained variance': metrics.explained_variance_score(y_test, y_pred)\n",
    "    }\n",
    "    metric_dict = {\n",
    "        'mean test': np.mean(y_test),\n",
    "        'std test': np.std(y_test),\n",
    "        'mean pred': np.mean(y_pred),\n",
    "        'std pred': np.std(y_pred)\n",
    "    }\n",
    "    return result, metric_dict\n",
    "results, metric_dict = summary_results(y_train, y_train_pred)\n",
    "print('Results Train')\n",
    "print(results)\n",
    "print(metric_dict)\n",
    "results, metric_dict = summary_results(y_test, y_test_pred)\n",
    "print('Results Test')\n",
    "print(results)\n",
    "print(metric_dict)"
   ]
  },
  {
   "cell_type": "code",
   "execution_count": 130,
   "metadata": {},
   "outputs": [
    {
     "data": {
      "text/plain": [
       "({'mean absolute error': 20.340504102614194,\n",
       "  'mean squared error': 1068.8102747278672,\n",
       "  'explained variance': 0.0},\n",
       " {'mean test': 45.621284778326626,\n",
       "  'std test': 32.6926207829735,\n",
       "  'mean pred': 45.67439851060221,\n",
       "  'std pred': 9.947598300641403e-14})"
      ]
     },
     "execution_count": 130,
     "metadata": {},
     "output_type": "execute_result"
    }
   ],
   "source": [
    "#benchmark this with using mean of train set\n",
    "mean_pred = np.mean(y_train) * np.ones(shape=y_test.shape)\n",
    "results, metric_dict = summary_results(y_test, mean_pred)\n",
    "results, metric_dict "
   ]
  },
  {
   "cell_type": "code",
   "execution_count": 131,
   "metadata": {},
   "outputs": [
    {
     "name": "stdout",
     "output_type": "stream",
     "text": [
      "AQI_-1_DAY_OFFSET 6.4360995996892285\n",
      "AQI_-7_DAY_OFFSET 3.2956472692226595\n",
      "AQI_-5_DAY_OFFSET 3.170959766904481\n",
      "AQI_-2_DAY_OFFSET 3.1103199697619734\n",
      "AQI_-3_DAY_OFFSET 2.808456311992578\n",
      "AQI_-6_DAY_OFFSET 2.5551916306805036\n",
      "AQI_-4_DAY_OFFSET 1.8284571621197607\n",
      "FIRES_SIZE_STATE_2_WEEK_PRIOR 0.0\n",
      "FIRES_SIZE_STATE_1_WEEK_PRIOR 0.0\n",
      "FIRES_SIZE_STATE_0_WEEK_PRIOR 0.0\n",
      "FIRES_SIZE_COUNTY_2_WEEK_PRIOR 0.0\n",
      "FIRES_SIZE_COUNTY_1_WEEK_PRIOR 0.0\n",
      "FIRES_SIZE_COUNTY_0_WEEK_PRIOR 0.0\n",
      "FIRES_COUNT_STATE_2_WEEK_PRIOR 0.0\n",
      "FIRES_COUNT_STATE_1_WEEK_PRIOR 0.0\n",
      "FIRES_COUNT_STATE_0_WEEK_PRIOR 0.0\n",
      "FIRES_COUNT_COUNTY_2_WEEK_PRIOR 0.0\n",
      "FIRES_COUNT_COUNTY_1_WEEK_PRIOR 0.0\n",
      "FIRES_COUNT_COUNTY_0_WEEK_PRIOR 0.0\n",
      "AQI_3_PRIOR 0.0\n",
      "AQI_2_PRIOR 0.0\n",
      "AQI_1_PRIOR 0.0\n",
      "AQI 0.0\n"
     ]
    }
   ],
   "source": [
    "# see which coefficients mattered\n",
    "coefs, features = zip(*sorted(zip(np.abs(clf.coef_), features), reverse=True))\n",
    "for f,c in zip(features, coefs):\n",
    "    print(f,c)"
   ]
  },
  {
   "cell_type": "code",
   "execution_count": 132,
   "metadata": {
    "scrolled": true
   },
   "outputs": [
    {
     "name": "stdout",
     "output_type": "stream",
     "text": [
      "(1344712, 3)\n"
     ]
    },
    {
     "data": {
      "image/png": "[encoded data removed]",
      "text/plain": [
       "<Figure size 720x360 with 1 Axes>"
      ]
     },
     "metadata": {
      "needs_background": "light"
     },
     "output_type": "display_data"
    }
   ],
   "source": [
    "# see the error distribution\n",
    "error = np.abs(y_test - y_pred)\n",
    "mask = (y_test<500) & (error < 500)\n",
    "hist = np.stack([error[mask], y_test[mask], y_pred[mask]]).T\n",
    "print(hist.shape)\n",
    "plt.figure(figsize=(10,5))\n",
    "plt.hist(hist, bins = 200, density=True, histtype='step', label=['Error', 'True AQI', 'Predicted AQI'])\n",
    "plt.legend()\n",
    "plt.title('Prediction Distribution All Samples')\n",
    "plt.savefig(f'analysis_plots/histogram_all_{model_name}.png')\n",
    "plt.show()"
   ]
  },
  {
   "cell_type": "code",
   "execution_count": 134,
   "metadata": {},
   "outputs": [
    {
     "name": "stdout",
     "output_type": "stream",
     "text": [
      "(75249, 3)\n"
     ]
    },
    {
     "data": {
      "image/png": "[encoded data removed]",
      "text/plain": [
       "<Figure size 720x360 with 1 Axes>"
      ]
     },
     "metadata": {
      "needs_background": "light"
     },
     "output_type": "display_data"
    }
   ],
   "source": [
    "# see the error distribution for high aqi values\n",
    "error = np.abs(y_test - y_pred)\n",
    "mask = (100<y_test) & (y_test<500)\n",
    "hist = np.stack([error[mask], y_test[mask], y_pred[mask]]).T\n",
    "print(hist.shape)\n",
    "plt.figure(figsize=(10,5))\n",
    "plt.hist(hist, bins = 200, density=True, histtype='step', label=['Error', 'True AQI', 'Predicted AQI'])\n",
    "plt.legend()\n",
    "plt.title('Prediction Distribution High AQI Samples')\n",
    "plt.savefig(f'analysis_plots/histogram_high_aqi_{model_name}.png')\n",
    "plt.show()"
   ]
  },
  {
   "cell_type": "code",
   "execution_count": null,
   "metadata": {},
   "outputs": [],
   "source": []
  }
 ],
 "metadata": {
  "kernelspec": {
   "display_name": "Python 3",
   "language": "python",
   "name": "python3"
  },
  "language_info": {
   "codemirror_mode": {
    "name": "ipython",
    "version": 3
   },
   "file_extension": ".py",
   "mimetype": "text/x-python",
   "name": "python",
   "nbconvert_exporter": "python",
   "pygments_lexer": "ipython3",
   "version": "3.7.3"
  }
 },
 "nbformat": 4,
 "nbformat_minor": 2
}
