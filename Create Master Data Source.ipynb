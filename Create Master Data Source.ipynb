{
 "cells": [
  {
   "cell_type": "code",
   "execution_count": 1,
   "metadata": {},
   "outputs": [],
   "source": [
    "import pandas as pd"
   ]
  },
  {
   "cell_type": "code",
   "execution_count": 6,
   "metadata": {},
   "outputs": [
    {
     "name": "stdout",
     "output_type": "stream",
     "text": [
      "{1992, 1993, 1994, 1995, 1996, 1997, 1998, 1999, 2000, 2001, 2002, 2003, 2004, 2005, 2006, 2007, 2008, 2010, 2011, 2012, 2013, 2014, 2015, 2016, 2017, 2018, 2019}\n",
      "  State Name county Name State Code  County Code        Date  AQI Category  \\\n",
      "0    Alabama     Calhoun          1           15  1992-01-01   12     Good   \n",
      "1    Alabama     Calhoun          1           15  1992-01-07   28     Good   \n",
      "2    Alabama     Calhoun          1           15  1992-01-13    6     Good   \n",
      "3    Alabama     Calhoun          1           15  1992-01-19   12     Good   \n",
      "4    Alabama     Calhoun          1           15  1992-01-25   13     Good   \n",
      "\n",
      "  Defining Parameter Defining Site  Number of Sites Reporting  \n",
      "0               PM10   01-015-0001                          1  \n",
      "1               PM10   01-015-0001                          1  \n",
      "2               PM10   01-015-0001                          1  \n",
      "3               PM10   01-015-0001                          1  \n",
      "4               PM10   01-015-0001                          1  \n",
      "82726270\n"
     ]
    }
   ],
   "source": [
    "# read all yearly csvs and make one master csv\n",
    "years = (set(range(1992, 2020)) - {2009})\n",
    "print(years)\n",
    "all_aqi_csv = [f'datasets/daily_aqi_by_county_{year}.csv' for year in years]\n",
    "all_aqi_csv = [pd.read_csv(path) for path in all_aqi_csv]\n",
    "master = pd.concat(all_aqi_csv)\n",
    "master.columns = []\n",
    "master"
   ]
  },
  {
   "cell_type": "code",
   "execution_count": 7,
   "metadata": {},
   "outputs": [
    {
     "data": {
      "text/plain": [
       "['STATE_NAME',\n",
       " 'COUNTY_NAME',\n",
       " 'STATE_CODE',\n",
       " 'COUNTY_CODE',\n",
       " 'DATE',\n",
       " 'AQI',\n",
       " 'CATEGORY',\n",
       " 'DEFINING_PARAMETER',\n",
       " 'DEFINING_SITE',\n",
       " 'NUMBER_OF_SITES_REPORTING']"
      ]
     },
     "execution_count": 7,
     "metadata": {},
     "output_type": "execute_result"
    }
   ],
   "source": [
    "\"\"\"STATE_NAME,COUNTY_NAME,STATE_CODE,COUNTY_CODE,DATE,AQI,CATEGORY,DEFINING_PARAMETER,DEFINING_SITE,NUMBER_OF_SITES_REPORTING\"\"\".split(\",\")"
   ]
  },
  {
   "cell_type": "code",
   "execution_count": null,
   "metadata": {},
   "outputs": [],
   "source": []
  }
 ],
 "metadata": {
  "kernelspec": {
   "display_name": "Python 3",
   "language": "python",
   "name": "python3"
  },
  "language_info": {
   "codemirror_mode": {
    "name": "ipython",
    "version": 3
   },
   "file_extension": ".py",
   "mimetype": "text/x-python",
   "name": "python",
   "nbconvert_exporter": "python",
   "pygments_lexer": "ipython3",
   "version": "3.7.3"
  }
 },
 "nbformat": 4,
 "nbformat_minor": 2
}
