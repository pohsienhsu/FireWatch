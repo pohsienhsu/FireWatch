{
 "cells": [
  {
   "cell_type": "code",
   "execution_count": 100,
   "metadata": {},
   "outputs": [],
   "source": [
    "import pandas"
   ]
  },
  {
   "cell_type": "code",
   "execution_count": 101,
   "metadata": {},
   "outputs": [
    {
     "name": "stderr",
     "output_type": "stream",
     "text": [
      "/home/froi/anaconda3/lib/python3.7/site-packages/IPython/core/interactiveshell.py:3063: DtypeWarning: Columns (1) have mixed types.Specify dtype option on import or set low_memory=False.\n",
      "  interactivity=interactivity, compiler=compiler, result=result)\n"
     ]
    }
   ],
   "source": [
    "df_original = pd.read_csv(\"datasets/fires_dates_fixed.csv\")"
   ]
  },
  {
   "cell_type": "code",
   "execution_count": 102,
   "metadata": {},
   "outputs": [],
   "source": [
    "columns = [\"FIRE_NAME\", \"FIRE_YEAR\", \"FIRE_SIZE\", \"DISCOVERY_DATE\", \"CONT_DATE\", \"STAT_CAUSE_DESCR\", \"STATE\", \"COUNTY_NAME\", \"FIPS_STATE\", \"FIPS_CODE\"]"
   ]
  },
  {
   "cell_type": "code",
   "execution_count": 103,
   "metadata": {},
   "outputs": [
    {
     "data": {
      "text/html": [
       "<div>\n",
       "<style scoped>\n",
       "    .dataframe tbody tr th:only-of-type {\n",
       "        vertical-align: middle;\n",
       "    }\n",
       "\n",
       "    .dataframe tbody tr th {\n",
       "        vertical-align: top;\n",
       "    }\n",
       "\n",
       "    .dataframe thead th {\n",
       "        text-align: right;\n",
       "    }\n",
       "</style>\n",
       "<table border=\"1\" class=\"dataframe\">\n",
       "  <thead>\n",
       "    <tr style=\"text-align: right;\">\n",
       "      <th></th>\n",
       "      <th>FIRE_NAME</th>\n",
       "      <th>FIRE_YEAR</th>\n",
       "      <th>FIRE_SIZE</th>\n",
       "      <th>DISCOVERY_DATE</th>\n",
       "      <th>CONT_DATE</th>\n",
       "      <th>STAT_CAUSE_DESCR</th>\n",
       "      <th>STATE</th>\n",
       "      <th>COUNTY_NAME</th>\n",
       "      <th>FIPS_STATE</th>\n",
       "      <th>FIPS_CODE</th>\n",
       "    </tr>\n",
       "  </thead>\n",
       "  <tbody>\n",
       "    <tr>\n",
       "      <th>0</th>\n",
       "      <td>TONSINA CREEK</td>\n",
       "      <td>2005</td>\n",
       "      <td>2.3</td>\n",
       "      <td>2005-04-28</td>\n",
       "      <td>2005-04-29</td>\n",
       "      <td>Campfire</td>\n",
       "      <td>Alaska</td>\n",
       "      <td>Kenai Peninsula</td>\n",
       "      <td>2</td>\n",
       "      <td>122</td>\n",
       "    </tr>\n",
       "    <tr>\n",
       "      <th>1</th>\n",
       "      <td>PETERSON CREEK</td>\n",
       "      <td>2005</td>\n",
       "      <td>2.5</td>\n",
       "      <td>2005-05-08</td>\n",
       "      <td>2005-05-10</td>\n",
       "      <td>Miscellaneous</td>\n",
       "      <td>Alaska</td>\n",
       "      <td>Kenai Peninsula</td>\n",
       "      <td>2</td>\n",
       "      <td>122</td>\n",
       "    </tr>\n",
       "    <tr>\n",
       "      <th>2</th>\n",
       "      <td>TWENTY MILE</td>\n",
       "      <td>2005</td>\n",
       "      <td>0.1</td>\n",
       "      <td>2005-05-09</td>\n",
       "      <td>2005-05-09</td>\n",
       "      <td>Debris Burning</td>\n",
       "      <td>Alaska</td>\n",
       "      <td>Kenai Peninsula</td>\n",
       "      <td>2</td>\n",
       "      <td>122</td>\n",
       "    </tr>\n",
       "    <tr>\n",
       "      <th>3</th>\n",
       "      <td>MOTORHOME</td>\n",
       "      <td>2007</td>\n",
       "      <td>0.1</td>\n",
       "      <td>2007-06-01</td>\n",
       "      <td>2007-06-01</td>\n",
       "      <td>Miscellaneous</td>\n",
       "      <td>Alaska</td>\n",
       "      <td>Kenai Peninsula</td>\n",
       "      <td>2</td>\n",
       "      <td>122</td>\n",
       "    </tr>\n",
       "    <tr>\n",
       "      <th>4</th>\n",
       "      <td>POWER</td>\n",
       "      <td>2007</td>\n",
       "      <td>0.1</td>\n",
       "      <td>2007-06-09</td>\n",
       "      <td>2007-06-09</td>\n",
       "      <td>Campfire</td>\n",
       "      <td>Alaska</td>\n",
       "      <td>Kenai Peninsula</td>\n",
       "      <td>2</td>\n",
       "      <td>122</td>\n",
       "    </tr>\n",
       "    <tr>\n",
       "      <th>...</th>\n",
       "      <td>...</td>\n",
       "      <td>...</td>\n",
       "      <td>...</td>\n",
       "      <td>...</td>\n",
       "      <td>...</td>\n",
       "      <td>...</td>\n",
       "      <td>...</td>\n",
       "      <td>...</td>\n",
       "      <td>...</td>\n",
       "      <td>...</td>\n",
       "    </tr>\n",
       "    <tr>\n",
       "      <th>1201225</th>\n",
       "      <td>1189</td>\n",
       "      <td>2014</td>\n",
       "      <td>0.1</td>\n",
       "      <td>2014-10-07</td>\n",
       "      <td>2014-10-07</td>\n",
       "      <td>Miscellaneous</td>\n",
       "      <td>Wyoming</td>\n",
       "      <td>Laramie</td>\n",
       "      <td>56</td>\n",
       "      <td>21</td>\n",
       "    </tr>\n",
       "    <tr>\n",
       "      <th>1201226</th>\n",
       "      <td>PERSHING</td>\n",
       "      <td>2015</td>\n",
       "      <td>1.0</td>\n",
       "      <td>2015-07-31</td>\n",
       "      <td>2015-07-31</td>\n",
       "      <td>Lightning</td>\n",
       "      <td>Wyoming</td>\n",
       "      <td>Laramie</td>\n",
       "      <td>56</td>\n",
       "      <td>21</td>\n",
       "    </tr>\n",
       "    <tr>\n",
       "      <th>1201227</th>\n",
       "      <td>MM-27.5</td>\n",
       "      <td>2015</td>\n",
       "      <td>3.0</td>\n",
       "      <td>2015-07-17</td>\n",
       "      <td>2015-07-17</td>\n",
       "      <td>Equipment Use</td>\n",
       "      <td>Wyoming</td>\n",
       "      <td>Laramie</td>\n",
       "      <td>56</td>\n",
       "      <td>21</td>\n",
       "    </tr>\n",
       "    <tr>\n",
       "      <th>1201228</th>\n",
       "      <td>NaN</td>\n",
       "      <td>2015</td>\n",
       "      <td>1.0</td>\n",
       "      <td>2015-03-11</td>\n",
       "      <td>2015-03-11</td>\n",
       "      <td>Smoking</td>\n",
       "      <td>Wyoming</td>\n",
       "      <td>Laramie</td>\n",
       "      <td>56</td>\n",
       "      <td>21</td>\n",
       "    </tr>\n",
       "    <tr>\n",
       "      <th>1201229</th>\n",
       "      <td>MARTIN GAIL</td>\n",
       "      <td>2015</td>\n",
       "      <td>2.0</td>\n",
       "      <td>2015-02-02</td>\n",
       "      <td>2015-02-02</td>\n",
       "      <td>Miscellaneous</td>\n",
       "      <td>Wyoming</td>\n",
       "      <td>Laramie</td>\n",
       "      <td>56</td>\n",
       "      <td>21</td>\n",
       "    </tr>\n",
       "  </tbody>\n",
       "</table>\n",
       "<p>1201230 rows × 10 columns</p>\n",
       "</div>"
      ],
      "text/plain": [
       "              FIRE_NAME  FIRE_YEAR  FIRE_SIZE DISCOVERY_DATE   CONT_DATE  \\\n",
       "0         TONSINA CREEK       2005        2.3     2005-04-28  2005-04-29   \n",
       "1        PETERSON CREEK       2005        2.5     2005-05-08  2005-05-10   \n",
       "2           TWENTY MILE       2005        0.1     2005-05-09  2005-05-09   \n",
       "3             MOTORHOME       2007        0.1     2007-06-01  2007-06-01   \n",
       "4                 POWER       2007        0.1     2007-06-09  2007-06-09   \n",
       "...                 ...        ...        ...            ...         ...   \n",
       "1201225            1189       2014        0.1     2014-10-07  2014-10-07   \n",
       "1201226        PERSHING       2015        1.0     2015-07-31  2015-07-31   \n",
       "1201227         MM-27.5       2015        3.0     2015-07-17  2015-07-17   \n",
       "1201228             NaN       2015        1.0     2015-03-11  2015-03-11   \n",
       "1201229     MARTIN GAIL       2015        2.0     2015-02-02  2015-02-02   \n",
       "\n",
       "        STAT_CAUSE_DESCR    STATE      COUNTY_NAME  FIPS_STATE  FIPS_CODE  \n",
       "0               Campfire   Alaska  Kenai Peninsula           2        122  \n",
       "1          Miscellaneous   Alaska  Kenai Peninsula           2        122  \n",
       "2         Debris Burning   Alaska  Kenai Peninsula           2        122  \n",
       "3          Miscellaneous   Alaska  Kenai Peninsula           2        122  \n",
       "4               Campfire   Alaska  Kenai Peninsula           2        122  \n",
       "...                  ...      ...              ...         ...        ...  \n",
       "1201225    Miscellaneous  Wyoming          Laramie          56         21  \n",
       "1201226        Lightning  Wyoming          Laramie          56         21  \n",
       "1201227    Equipment Use  Wyoming          Laramie          56         21  \n",
       "1201228          Smoking  Wyoming          Laramie          56         21  \n",
       "1201229    Miscellaneous  Wyoming          Laramie          56         21  \n",
       "\n",
       "[1201230 rows x 10 columns]"
      ]
     },
     "execution_count": 103,
     "metadata": {},
     "output_type": "execute_result"
    }
   ],
   "source": [
    "df = df_original[columns]\n",
    "df"
   ]
  },
  {
   "cell_type": "markdown",
   "metadata": {},
   "source": [
    "## Number of Fires by Year\n",
    "\n",
    "Seems to roughly match the statistics from https://fas.org/sgp/crs/misc/IF10244.pdf for the year 2015"
   ]
  },
  {
   "cell_type": "code",
   "execution_count": 106,
   "metadata": {},
   "outputs": [],
   "source": [
    "fires_by_year = df.groupby(\"FIRE_YEAR\")"
   ]
  },
  {
   "cell_type": "code",
   "execution_count": 107,
   "metadata": {},
   "outputs": [
    {
     "data": {
      "text/plain": [
       "FIRE_YEAR\n",
       "1992    33773\n",
       "1993    33977\n",
       "1994    36075\n",
       "1995    40816\n",
       "1996    41483\n",
       "1997    24261\n",
       "1998    23598\n",
       "1999    32295\n",
       "2000    39843\n",
       "2001    37670\n",
       "2002    33562\n",
       "2003    40419\n",
       "2004    43999\n",
       "2005    62889\n",
       "2006    88106\n",
       "2007    73367\n",
       "2008    70146\n",
       "2009    63803\n",
       "2010    63121\n",
       "2011    72489\n",
       "2012    62442\n",
       "2013    58411\n",
       "2014    61341\n",
       "2015    63344\n",
       "dtype: int64"
      ]
     },
     "execution_count": 107,
     "metadata": {},
     "output_type": "execute_result"
    }
   ],
   "source": [
    "fires_by_year.size()\n"
   ]
  },
  {
   "cell_type": "code",
   "execution_count": 108,
   "metadata": {},
   "outputs": [
    {
     "data": {
      "text/plain": [
       "FIRE_YEAR\n",
       "1992    4.330941e+05\n",
       "1993    4.017944e+05\n",
       "1994    6.329064e+05\n",
       "1995    5.131534e+05\n",
       "1996    8.243400e+05\n",
       "1997    2.771874e+05\n",
       "1998    6.011231e+05\n",
       "1999    3.026783e+06\n",
       "2000    3.038503e+06\n",
       "2001    2.139176e+06\n",
       "2002    1.836951e+06\n",
       "2003    1.755565e+06\n",
       "2004    1.040198e+06\n",
       "2005    3.944271e+06\n",
       "2006    8.253112e+06\n",
       "2007    7.266372e+06\n",
       "2008    4.516456e+06\n",
       "2009    2.546274e+06\n",
       "2010    1.968821e+06\n",
       "2011    6.128886e+06\n",
       "2012    7.936838e+06\n",
       "2013    2.888591e+06\n",
       "2014    3.181756e+06\n",
       "2015    6.260638e+06\n",
       "Name: FIRE_SIZE, dtype: float64"
      ]
     },
     "execution_count": 108,
     "metadata": {},
     "output_type": "execute_result"
    }
   ],
   "source": [
    "# Number of acres burned by year\n",
    "acres_burned_by_year = df.groupby(\"FIRE_YEAR\")\n",
    "acres_burned_by_year['FIRE_SIZE'].sum()"
   ]
  },
  {
   "cell_type": "code",
   "execution_count": 87,
   "metadata": {},
   "outputs": [
    {
     "data": {
      "text/html": [
       "<div>\n",
       "<style scoped>\n",
       "    .dataframe tbody tr th:only-of-type {\n",
       "        vertical-align: middle;\n",
       "    }\n",
       "\n",
       "    .dataframe tbody tr th {\n",
       "        vertical-align: top;\n",
       "    }\n",
       "\n",
       "    .dataframe thead th {\n",
       "        text-align: right;\n",
       "    }\n",
       "</style>\n",
       "<table border=\"1\" class=\"dataframe\">\n",
       "  <thead>\n",
       "    <tr style=\"text-align: right;\">\n",
       "      <th></th>\n",
       "      <th>FIRE_NAME</th>\n",
       "      <th>FIRE_YEAR</th>\n",
       "      <th>FIRE_SIZE</th>\n",
       "      <th>DISCOVERY_DATE</th>\n",
       "      <th>CONT_DATE</th>\n",
       "      <th>STAT_CAUSE_DESCR</th>\n",
       "      <th>STATE</th>\n",
       "      <th>COUNTY_NAME</th>\n",
       "      <th>FIPS_STATE</th>\n",
       "      <th>FIPS_CODE</th>\n",
       "    </tr>\n",
       "  </thead>\n",
       "  <tbody>\n",
       "    <tr>\n",
       "      <th>30</th>\n",
       "      <td>HANGER FIRE</td>\n",
       "      <td>2006</td>\n",
       "      <td>0.1</td>\n",
       "      <td>2006-05-23</td>\n",
       "      <td>2006-05-23</td>\n",
       "      <td>Debris Burning</td>\n",
       "      <td>Alaska</td>\n",
       "      <td>Kenai Peninsula</td>\n",
       "      <td>2</td>\n",
       "      <td>122</td>\n",
       "    </tr>\n",
       "    <tr>\n",
       "      <th>31</th>\n",
       "      <td>DUNLEAVEY FIRE</td>\n",
       "      <td>2006</td>\n",
       "      <td>0.1</td>\n",
       "      <td>2006-05-25</td>\n",
       "      <td>2006-05-25</td>\n",
       "      <td>Debris Burning</td>\n",
       "      <td>Alaska</td>\n",
       "      <td>Kenai Peninsula</td>\n",
       "      <td>2</td>\n",
       "      <td>122</td>\n",
       "    </tr>\n",
       "    <tr>\n",
       "      <th>32</th>\n",
       "      <td>FIRECRACKER</td>\n",
       "      <td>2006</td>\n",
       "      <td>0.1</td>\n",
       "      <td>2006-07-04</td>\n",
       "      <td>2006-07-04</td>\n",
       "      <td>Campfire</td>\n",
       "      <td>Alaska</td>\n",
       "      <td>Kenai Peninsula</td>\n",
       "      <td>2</td>\n",
       "      <td>122</td>\n",
       "    </tr>\n",
       "    <tr>\n",
       "      <th>33</th>\n",
       "      <td>GWINS FIRE</td>\n",
       "      <td>2006</td>\n",
       "      <td>0.1</td>\n",
       "      <td>2006-07-10</td>\n",
       "      <td>2006-07-10</td>\n",
       "      <td>Campfire</td>\n",
       "      <td>Alaska</td>\n",
       "      <td>Kenai Peninsula</td>\n",
       "      <td>2</td>\n",
       "      <td>122</td>\n",
       "    </tr>\n",
       "    <tr>\n",
       "      <th>34</th>\n",
       "      <td>MILE 15.5 FIRE</td>\n",
       "      <td>2006</td>\n",
       "      <td>0.1</td>\n",
       "      <td>2006-08-07</td>\n",
       "      <td>2006-08-08</td>\n",
       "      <td>Campfire</td>\n",
       "      <td>Alaska</td>\n",
       "      <td>Kenai Peninsula</td>\n",
       "      <td>2</td>\n",
       "      <td>122</td>\n",
       "    </tr>\n",
       "    <tr>\n",
       "      <th>...</th>\n",
       "      <td>...</td>\n",
       "      <td>...</td>\n",
       "      <td>...</td>\n",
       "      <td>...</td>\n",
       "      <td>...</td>\n",
       "      <td>...</td>\n",
       "      <td>...</td>\n",
       "      <td>...</td>\n",
       "      <td>...</td>\n",
       "      <td>...</td>\n",
       "    </tr>\n",
       "    <tr>\n",
       "      <th>1200576</th>\n",
       "      <td>GOOSE EGG</td>\n",
       "      <td>2006</td>\n",
       "      <td>0.1</td>\n",
       "      <td>2006-08-06</td>\n",
       "      <td>2006-08-06</td>\n",
       "      <td>Lightning</td>\n",
       "      <td>Wyoming</td>\n",
       "      <td>Natrona</td>\n",
       "      <td>56</td>\n",
       "      <td>25</td>\n",
       "    </tr>\n",
       "    <tr>\n",
       "      <th>1200577</th>\n",
       "      <td>PITCH PINE</td>\n",
       "      <td>2006</td>\n",
       "      <td>1.5</td>\n",
       "      <td>2006-08-07</td>\n",
       "      <td>2006-08-09</td>\n",
       "      <td>Lightning</td>\n",
       "      <td>Wyoming</td>\n",
       "      <td>Natrona</td>\n",
       "      <td>56</td>\n",
       "      <td>25</td>\n",
       "    </tr>\n",
       "    <tr>\n",
       "      <th>1200578</th>\n",
       "      <td>JACKSON CANYON</td>\n",
       "      <td>2006</td>\n",
       "      <td>11765.0</td>\n",
       "      <td>2006-08-14</td>\n",
       "      <td>2006-08-29</td>\n",
       "      <td>Lightning</td>\n",
       "      <td>Wyoming</td>\n",
       "      <td>Natrona</td>\n",
       "      <td>56</td>\n",
       "      <td>25</td>\n",
       "    </tr>\n",
       "    <tr>\n",
       "      <th>1200579</th>\n",
       "      <td>WIENKE</td>\n",
       "      <td>2006</td>\n",
       "      <td>0.1</td>\n",
       "      <td>2006-08-19</td>\n",
       "      <td>2006-08-19</td>\n",
       "      <td>Lightning</td>\n",
       "      <td>Wyoming</td>\n",
       "      <td>Natrona</td>\n",
       "      <td>56</td>\n",
       "      <td>25</td>\n",
       "    </tr>\n",
       "    <tr>\n",
       "      <th>1200637</th>\n",
       "      <td>DRY DRAW</td>\n",
       "      <td>2006</td>\n",
       "      <td>0.5</td>\n",
       "      <td>2006-06-07</td>\n",
       "      <td>2006-06-07</td>\n",
       "      <td>Lightning</td>\n",
       "      <td>Wyoming</td>\n",
       "      <td>Natrona</td>\n",
       "      <td>56</td>\n",
       "      <td>25</td>\n",
       "    </tr>\n",
       "  </tbody>\n",
       "</table>\n",
       "<p>88106 rows × 10 columns</p>\n",
       "</div>"
      ],
      "text/plain": [
       "              FIRE_NAME  FIRE_YEAR  FIRE_SIZE DISCOVERY_DATE   CONT_DATE  \\\n",
       "30          HANGER FIRE       2006        0.1     2006-05-23  2006-05-23   \n",
       "31       DUNLEAVEY FIRE       2006        0.1     2006-05-25  2006-05-25   \n",
       "32          FIRECRACKER       2006        0.1     2006-07-04  2006-07-04   \n",
       "33           GWINS FIRE       2006        0.1     2006-07-10  2006-07-10   \n",
       "34       MILE 15.5 FIRE       2006        0.1     2006-08-07  2006-08-08   \n",
       "...                 ...        ...        ...            ...         ...   \n",
       "1200576       GOOSE EGG       2006        0.1     2006-08-06  2006-08-06   \n",
       "1200577      PITCH PINE       2006        1.5     2006-08-07  2006-08-09   \n",
       "1200578  JACKSON CANYON       2006    11765.0     2006-08-14  2006-08-29   \n",
       "1200579          WIENKE       2006        0.1     2006-08-19  2006-08-19   \n",
       "1200637        DRY DRAW       2006        0.5     2006-06-07  2006-06-07   \n",
       "\n",
       "        STAT_CAUSE_DESCR    STATE      COUNTY_NAME  FIPS_STATE  FIPS_CODE  \n",
       "30        Debris Burning   Alaska  Kenai Peninsula           2        122  \n",
       "31        Debris Burning   Alaska  Kenai Peninsula           2        122  \n",
       "32              Campfire   Alaska  Kenai Peninsula           2        122  \n",
       "33              Campfire   Alaska  Kenai Peninsula           2        122  \n",
       "34              Campfire   Alaska  Kenai Peninsula           2        122  \n",
       "...                  ...      ...              ...         ...        ...  \n",
       "1200576        Lightning  Wyoming          Natrona          56         25  \n",
       "1200577        Lightning  Wyoming          Natrona          56         25  \n",
       "1200578        Lightning  Wyoming          Natrona          56         25  \n",
       "1200579        Lightning  Wyoming          Natrona          56         25  \n",
       "1200637        Lightning  Wyoming          Natrona          56         25  \n",
       "\n",
       "[88106 rows x 10 columns]"
      ]
     },
     "execution_count": 87,
     "metadata": {},
     "output_type": "execute_result"
    }
   ],
   "source": [
    "fires_by_year.get_group(2006)"
   ]
  },
  {
   "cell_type": "markdown",
   "metadata": {},
   "source": [
    "## Investigate Stated Causes of Fires"
   ]
  },
  {
   "cell_type": "code",
   "execution_count": 88,
   "metadata": {},
   "outputs": [],
   "source": [
    "fires_2006 = fires_by_year.get_group(2006)\n",
    "fires_1998 = fires_by_year.get_group(1998)\n",
    "\n",
    "causes_2006 = fires_2006.groupby(\"STAT_CAUSE_DESCR\")\n",
    "causes_1998 = fires_1998.groupby(\"STAT_CAUSE_DESCR\")"
   ]
  },
  {
   "cell_type": "code",
   "execution_count": 89,
   "metadata": {},
   "outputs": [
    {
     "data": {
      "text/plain": [
       "STAT_CAUSE_DESCR\n",
       "Arson                4488\n",
       "Debris Burning       4392\n",
       "Lightning            4030\n",
       "Miscellaneous        2786\n",
       "Equipment Use        2265\n",
       "Railroad             1393\n",
       "Missing/Undefined    1200\n",
       "Campfire             1021\n",
       "Children              808\n",
       "Smoking               802\n",
       "Powerline             257\n",
       "Fireworks             107\n",
       "Structure              49\n",
       "dtype: int64"
      ]
     },
     "execution_count": 89,
     "metadata": {},
     "output_type": "execute_result"
    }
   ],
   "source": [
    "causes_1998.size().sort_values(ascending=False)"
   ]
  },
  {
   "cell_type": "code",
   "execution_count": 90,
   "metadata": {},
   "outputs": [
    {
     "data": {
      "text/plain": [
       "STAT_CAUSE_DESCR\n",
       "Debris Burning       22261\n",
       "Miscellaneous        17147\n",
       "Lightning            14172\n",
       "Arson                13074\n",
       "Equipment Use         7205\n",
       "Missing/Undefined     6214\n",
       "Smoking               2373\n",
       "Children              2317\n",
       "Campfire              2221\n",
       "Railroad               901\n",
       "Powerline              163\n",
       "Fireworks               41\n",
       "Structure               17\n",
       "dtype: int64"
      ]
     },
     "execution_count": 90,
     "metadata": {},
     "output_type": "execute_result"
    }
   ],
   "source": [
    "causes_2006.size().sort_values(ascending=False)"
   ]
  },
  {
   "cell_type": "code",
   "execution_count": null,
   "metadata": {},
   "outputs": [],
   "source": []
  },
  {
   "cell_type": "markdown",
   "metadata": {},
   "source": [
    "### Top 20 state-counties with the most wildfires in 2006"
   ]
  },
  {
   "cell_type": "code",
   "execution_count": 91,
   "metadata": {},
   "outputs": [
    {
     "data": {
      "text/plain": [
       "STATE       COUNTY_NAME\n",
       "New York    Suffolk        738\n",
       "Arizona     Coconino       669\n",
       "Hawaii      Honolulu       550\n",
       "New York    Orange         381\n",
       "Minnesota   St Louis       347\n",
       "Texas       Atascosa       346\n",
       "New York    Nassau         337\n",
       "Oregon      Grant          333\n",
       "Idaho       Idaho          325\n",
       "Arizona     Mohave         318\n",
       "New York    Erie           313\n",
       "Texas       Wood           309\n",
       "California  Riverside      308\n",
       "New York    Monroe         305\n",
       "Louisiana   Beauregard     300\n",
       "Alabama     Mobile         297\n",
       "Montana     Lincoln        292\n",
       "Louisiana   St Tammany     289\n",
       "Texas       Smith          283\n",
       "California  Los Angeles    283\n",
       "dtype: int64"
      ]
     },
     "execution_count": 91,
     "metadata": {},
     "output_type": "execute_result"
    }
   ],
   "source": [
    "# We can groupby FIPS_STATE and FIPS_CODE, but easier for humans to read if we groupby STATE, COUNTY_NAME\n",
    "county_state_2006 = fires_2006.groupby([\"STATE\", \"COUNTY_NAME\"])\n",
    "county_state_2006.size().sort_values(ascending=False)[:20]"
   ]
  },
  {
   "cell_type": "markdown",
   "metadata": {},
   "source": [
    "Top 10 states with the most wildfires in 2006\n"
   ]
  },
  {
   "cell_type": "code",
   "execution_count": 92,
   "metadata": {},
   "outputs": [
    {
     "data": {
      "text/plain": [
       "STATE\n",
       "Texas             14597\n",
       "Georgia            8868\n",
       "New York           6610\n",
       "North Carolina     5010\n",
       "Florida            4723\n",
       "Alabama            3936\n",
       "California         3367\n",
       "Oregon             3036\n",
       "Louisiana          3013\n",
       "South Carolina     2836\n",
       "dtype: int64"
      ]
     },
     "execution_count": 92,
     "metadata": {},
     "output_type": "execute_result"
    }
   ],
   "source": [
    "# We can groupby FIPS_STATE and FIPS_CODE, but easier for humans to read if we groupby STATE, COUNTY_NAME\n",
    "state_2006 = fires_2006.groupby([\"STATE\"])\n",
    "state_2006.size().sort_values(ascending=False)[:10]"
   ]
  },
  {
   "cell_type": "code",
   "execution_count": 104,
   "metadata": {},
   "outputs": [
    {
     "data": {
      "text/plain": [
       "STATE\n",
       "Georgia           150234\n",
       "Texas             136462\n",
       "Florida            83601\n",
       "New York           80018\n",
       "California         56221\n",
       "South Carolina     53341\n",
       "Mississippi        48295\n",
       "North Carolina     47592\n",
       "Alabama            41560\n",
       "Oregon             40178\n",
       "dtype: int64"
      ]
     },
     "execution_count": 104,
     "metadata": {},
     "output_type": "execute_result"
    }
   ],
   "source": [
    "# Top 10 states with most wildfires alltime 1992-2015\n",
    "state = df.groupby([\"STATE\"])\n",
    "state.size().sort_values(ascending=False)[:10]"
   ]
  },
  {
   "cell_type": "markdown",
   "metadata": {},
   "source": [
    "### States with most acres burned based on fire size"
   ]
  },
  {
   "cell_type": "code",
   "execution_count": 105,
   "metadata": {},
   "outputs": [
    {
     "data": {
      "text/plain": [
       "STATE\n",
       "Idaho          9.591734e+06\n",
       "Texas          7.953988e+06\n",
       "Nevada         7.421757e+06\n",
       "California     6.524384e+06\n",
       "Oregon         5.792585e+06\n",
       "New Mexico     4.187921e+06\n",
       "Montana        3.628712e+06\n",
       "Washington     3.057350e+06\n",
       "Florida        3.032167e+06\n",
       "Utah           2.886954e+06\n",
       "Arizona        2.553902e+06\n",
       "Alaska         2.285323e+06\n",
       "Oklahoma       1.530667e+06\n",
       "Wyoming        1.501708e+06\n",
       "Colorado       1.208078e+06\n",
       "Minnesota      8.183956e+05\n",
       "Kansas         7.970291e+05\n",
       "Georgia        7.519269e+05\n",
       "Mississippi    7.162935e+05\n",
       "Alabama        5.979095e+05\n",
       "Name: FIRE_SIZE, dtype: float64"
      ]
     },
     "execution_count": 105,
     "metadata": {},
     "output_type": "execute_result"
    }
   ],
   "source": [
    "state[\"FIRE_SIZE\"].sum().sort_values(ascending=False)[:20]"
   ]
  },
  {
   "cell_type": "markdown",
   "metadata": {},
   "source": [
    "### California acres burned by year"
   ]
  },
  {
   "cell_type": "code",
   "execution_count": 117,
   "metadata": {},
   "outputs": [],
   "source": [
    "CA = df[df[\"STATE\"] == \"California\"]\n",
    "AL = df[df[\"STATE\"] == \"Alaska\"]\n",
    "ID = df[df[\"STATE\"] == \"Idaho\"]"
   ]
  },
  {
   "cell_type": "code",
   "execution_count": 113,
   "metadata": {},
   "outputs": [
    {
     "data": {
      "text/plain": [
       "FIRE_YEAR\n",
       "1997         14.90\n",
       "1998      15709.70\n",
       "1999      73361.80\n",
       "2000      41184.70\n",
       "2001      95824.30\n",
       "2002     138900.50\n",
       "2003     283607.74\n",
       "2004      95108.67\n",
       "2005      60821.50\n",
       "2006     672051.94\n",
       "2007     910144.52\n",
       "2008    1176897.80\n",
       "2009     356014.33\n",
       "2010      81301.26\n",
       "2011      84625.69\n",
       "2012     711661.13\n",
       "2013     544348.06\n",
       "2014     507431.63\n",
       "2015     675373.61\n",
       "Name: FIRE_SIZE, dtype: float64"
      ]
     },
     "execution_count": 113,
     "metadata": {},
     "output_type": "execute_result"
    }
   ],
   "source": [
    "CA.groupby(\"FIRE_YEAR\")[\"FIRE_SIZE\"].sum()"
   ]
  },
  {
   "cell_type": "code",
   "execution_count": 116,
   "metadata": {},
   "outputs": [
    {
     "data": {
      "text/plain": [
       "FIRE_YEAR\n",
       "1997          2.00\n",
       "2004          0.50\n",
       "2005        353.25\n",
       "2006          5.20\n",
       "2007          4.00\n",
       "2008          1.20\n",
       "2009         22.27\n",
       "2010         14.10\n",
       "2012          1.20\n",
       "2013        136.10\n",
       "2014     198275.08\n",
       "2015    2086507.76\n",
       "Name: FIRE_SIZE, dtype: float64"
      ]
     },
     "execution_count": 116,
     "metadata": {},
     "output_type": "execute_result"
    }
   ],
   "source": [
    "AL.groupby(\"FIRE_YEAR\")[\"FIRE_SIZE\"].sum()"
   ]
  },
  {
   "cell_type": "code",
   "execution_count": 118,
   "metadata": {},
   "outputs": [
    {
     "data": {
      "text/plain": [
       "FIRE_YEAR\n",
       "1992       3196.00\n",
       "1993        842.70\n",
       "1994      11735.00\n",
       "1995       1545.60\n",
       "1996      27623.10\n",
       "1997       1432.30\n",
       "1998       9781.60\n",
       "1999     382231.42\n",
       "2000     589100.98\n",
       "2001     163844.82\n",
       "2002      72382.15\n",
       "2003     201862.93\n",
       "2004      11709.78\n",
       "2005     600871.83\n",
       "2006     903992.13\n",
       "2007    2068452.94\n",
       "2008     168701.06\n",
       "2009      23432.81\n",
       "2010     642887.96\n",
       "2011     232460.61\n",
       "2012    1772657.44\n",
       "2013     738809.00\n",
       "2014     195085.87\n",
       "2015     767094.21\n",
       "Name: FIRE_SIZE, dtype: float64"
      ]
     },
     "execution_count": 118,
     "metadata": {},
     "output_type": "execute_result"
    }
   ],
   "source": [
    "ID.groupby(\"FIRE_YEAR\")[\"FIRE_SIZE\"].sum()"
   ]
  },
  {
   "cell_type": "code",
   "execution_count": null,
   "metadata": {},
   "outputs": [],
   "source": []
  }
 ],
 "metadata": {
  "kernelspec": {
   "display_name": "Python 3",
   "language": "python",
   "name": "python3"
  },
  "language_info": {
   "codemirror_mode": {
    "name": "ipython",
    "version": 3
   },
   "file_extension": ".py",
   "mimetype": "text/x-python",
   "name": "python",
   "nbconvert_exporter": "python",
   "pygments_lexer": "ipython3",
   "version": "3.7.5"
  }
 },
 "nbformat": 4,
 "nbformat_minor": 4
}
