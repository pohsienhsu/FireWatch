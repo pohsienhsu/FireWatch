{
 "cells": [
  {
   "cell_type": "code",
   "execution_count": 30,
   "metadata": {},
   "outputs": [],
   "source": [
    "import pandas as pd\n",
    "import numpy as np\n",
    "import utilities as u\n",
    "import matplotlib.pyplot as plt\n",
    "from sklearn.preprocessing import StandardScaler\n",
    "from sklearn.cluster import KMeans"
   ]
  },
  {
   "cell_type": "code",
   "execution_count": 2,
   "metadata": {},
   "outputs": [
    {
     "name": "stderr",
     "output_type": "stream",
     "text": [
      "/Library/Frameworks/Python.framework/Versions/3.7/lib/python3.7/site-packages/IPython/core/interactiveshell.py:3147: DtypeWarning: Columns (1) have mixed types.Specify dtype option on import or set low_memory=False.\n",
      "  interactivity=interactivity, compiler=compiler, result=result)\n"
     ]
    }
   ],
   "source": [
    "df_original = pd.read_csv(\"datasets/fires_dates_fixed.csv\")"
   ]
  },
  {
   "cell_type": "code",
   "execution_count": 3,
   "metadata": {},
   "outputs": [],
   "source": [
    "columns = [\"FIRE_NAME\", \"FIRE_YEAR\", \"FIRE_SIZE\", \"DISCOVERY_DATE\", \"CONT_DATE\", \"STAT_CAUSE_DESCR\", \"STATE\", \"COUNTY_NAME\", \"FIPS_STATE\", \"FIPS_CODE\", \"LATITUDE\", \"LONGITUDE\", \"CONT_TIME\"]"
   ]
  },
  {
   "cell_type": "code",
   "execution_count": 4,
   "metadata": {},
   "outputs": [
    {
     "data": {
      "text/html": [
       "<div>\n",
       "<style scoped>\n",
       "    .dataframe tbody tr th:only-of-type {\n",
       "        vertical-align: middle;\n",
       "    }\n",
       "\n",
       "    .dataframe tbody tr th {\n",
       "        vertical-align: top;\n",
       "    }\n",
       "\n",
       "    .dataframe thead th {\n",
       "        text-align: right;\n",
       "    }\n",
       "</style>\n",
       "<table border=\"1\" class=\"dataframe\">\n",
       "  <thead>\n",
       "    <tr style=\"text-align: right;\">\n",
       "      <th></th>\n",
       "      <th>FIRE_NAME</th>\n",
       "      <th>FIRE_YEAR</th>\n",
       "      <th>FIRE_SIZE</th>\n",
       "      <th>DISCOVERY_DATE</th>\n",
       "      <th>CONT_DATE</th>\n",
       "      <th>STAT_CAUSE_DESCR</th>\n",
       "      <th>STATE</th>\n",
       "      <th>COUNTY_NAME</th>\n",
       "      <th>FIPS_STATE</th>\n",
       "      <th>FIPS_CODE</th>\n",
       "      <th>LATITUDE</th>\n",
       "      <th>LONGITUDE</th>\n",
       "      <th>CONT_TIME</th>\n",
       "    </tr>\n",
       "  </thead>\n",
       "  <tbody>\n",
       "    <tr>\n",
       "      <th>0</th>\n",
       "      <td>TONSINA CREEK</td>\n",
       "      <td>2005</td>\n",
       "      <td>2.3</td>\n",
       "      <td>2005-04-28</td>\n",
       "      <td>2005-04-29</td>\n",
       "      <td>Campfire</td>\n",
       "      <td>Alaska</td>\n",
       "      <td>Kenai Peninsula</td>\n",
       "      <td>2</td>\n",
       "      <td>122</td>\n",
       "      <td>60.053333</td>\n",
       "      <td>-149.440000</td>\n",
       "      <td>2100.0</td>\n",
       "    </tr>\n",
       "    <tr>\n",
       "      <th>1</th>\n",
       "      <td>PETERSON CREEK</td>\n",
       "      <td>2005</td>\n",
       "      <td>2.5</td>\n",
       "      <td>2005-05-08</td>\n",
       "      <td>2005-05-10</td>\n",
       "      <td>Miscellaneous</td>\n",
       "      <td>Alaska</td>\n",
       "      <td>Kenai Peninsula</td>\n",
       "      <td>2</td>\n",
       "      <td>122</td>\n",
       "      <td>60.885000</td>\n",
       "      <td>-149.045000</td>\n",
       "      <td>1800.0</td>\n",
       "    </tr>\n",
       "    <tr>\n",
       "      <th>2</th>\n",
       "      <td>TWENTY MILE</td>\n",
       "      <td>2005</td>\n",
       "      <td>0.1</td>\n",
       "      <td>2005-05-09</td>\n",
       "      <td>2005-05-09</td>\n",
       "      <td>Debris Burning</td>\n",
       "      <td>Alaska</td>\n",
       "      <td>Kenai Peninsula</td>\n",
       "      <td>2</td>\n",
       "      <td>122</td>\n",
       "      <td>60.861667</td>\n",
       "      <td>-148.995000</td>\n",
       "      <td>1030.0</td>\n",
       "    </tr>\n",
       "    <tr>\n",
       "      <th>3</th>\n",
       "      <td>MOTORHOME</td>\n",
       "      <td>2007</td>\n",
       "      <td>0.1</td>\n",
       "      <td>2007-06-01</td>\n",
       "      <td>2007-06-01</td>\n",
       "      <td>Miscellaneous</td>\n",
       "      <td>Alaska</td>\n",
       "      <td>Kenai Peninsula</td>\n",
       "      <td>2</td>\n",
       "      <td>122</td>\n",
       "      <td>60.450278</td>\n",
       "      <td>-149.366944</td>\n",
       "      <td>1640.0</td>\n",
       "    </tr>\n",
       "    <tr>\n",
       "      <th>4</th>\n",
       "      <td>POWER</td>\n",
       "      <td>2007</td>\n",
       "      <td>0.1</td>\n",
       "      <td>2007-06-09</td>\n",
       "      <td>2007-06-09</td>\n",
       "      <td>Campfire</td>\n",
       "      <td>Alaska</td>\n",
       "      <td>Kenai Peninsula</td>\n",
       "      <td>2</td>\n",
       "      <td>122</td>\n",
       "      <td>60.466944</td>\n",
       "      <td>-149.700278</td>\n",
       "      <td>1450.0</td>\n",
       "    </tr>\n",
       "  </tbody>\n",
       "</table>\n",
       "</div>"
      ],
      "text/plain": [
       "        FIRE_NAME  FIRE_YEAR  FIRE_SIZE DISCOVERY_DATE   CONT_DATE  \\\n",
       "0   TONSINA CREEK       2005        2.3     2005-04-28  2005-04-29   \n",
       "1  PETERSON CREEK       2005        2.5     2005-05-08  2005-05-10   \n",
       "2     TWENTY MILE       2005        0.1     2005-05-09  2005-05-09   \n",
       "3       MOTORHOME       2007        0.1     2007-06-01  2007-06-01   \n",
       "4           POWER       2007        0.1     2007-06-09  2007-06-09   \n",
       "\n",
       "  STAT_CAUSE_DESCR   STATE      COUNTY_NAME  FIPS_STATE  FIPS_CODE   LATITUDE  \\\n",
       "0         Campfire  Alaska  Kenai Peninsula           2        122  60.053333   \n",
       "1    Miscellaneous  Alaska  Kenai Peninsula           2        122  60.885000   \n",
       "2   Debris Burning  Alaska  Kenai Peninsula           2        122  60.861667   \n",
       "3    Miscellaneous  Alaska  Kenai Peninsula           2        122  60.450278   \n",
       "4         Campfire  Alaska  Kenai Peninsula           2        122  60.466944   \n",
       "\n",
       "    LONGITUDE  CONT_TIME  \n",
       "0 -149.440000     2100.0  \n",
       "1 -149.045000     1800.0  \n",
       "2 -148.995000     1030.0  \n",
       "3 -149.366944     1640.0  \n",
       "4 -149.700278     1450.0  "
      ]
     },
     "execution_count": 4,
     "metadata": {},
     "output_type": "execute_result"
    }
   ],
   "source": [
    "df = df_original[columns]\n",
    "df.head()"
   ]
  },
  {
   "cell_type": "markdown",
   "metadata": {},
   "source": [
    "## Number of Fires by Year\n",
    "\n",
    "Seems to roughly match the statistics from https://fas.org/sgp/crs/misc/IF10244.pdf for the year 2015"
   ]
  },
  {
   "cell_type": "code",
   "execution_count": 5,
   "metadata": {},
   "outputs": [],
   "source": [
    "fires_by_year = df.groupby(\"FIRE_YEAR\")"
   ]
  },
  {
   "cell_type": "code",
   "execution_count": 6,
   "metadata": {},
   "outputs": [],
   "source": [
    "#fires_by_year.size()"
   ]
  },
  {
   "cell_type": "code",
   "execution_count": 7,
   "metadata": {},
   "outputs": [],
   "source": [
    "# Number of acres burned by year\n",
    "acres_burned_by_year = df.groupby(\"FIRE_YEAR\")\n",
    "#acres_burned_by_year['FIRE_SIZE'].sum()"
   ]
  },
  {
   "cell_type": "code",
   "execution_count": 8,
   "metadata": {},
   "outputs": [],
   "source": [
    "df_aqi = pd.read_csv(\"datasets/aqi.csv\")"
   ]
  },
  {
   "cell_type": "code",
   "execution_count": 9,
   "metadata": {},
   "outputs": [
    {
     "data": {
      "text/html": [
       "<div>\n",
       "<style scoped>\n",
       "    .dataframe tbody tr th:only-of-type {\n",
       "        vertical-align: middle;\n",
       "    }\n",
       "\n",
       "    .dataframe tbody tr th {\n",
       "        vertical-align: top;\n",
       "    }\n",
       "\n",
       "    .dataframe thead th {\n",
       "        text-align: right;\n",
       "    }\n",
       "</style>\n",
       "<table border=\"1\" class=\"dataframe\">\n",
       "  <thead>\n",
       "    <tr style=\"text-align: right;\">\n",
       "      <th></th>\n",
       "      <th>STATE_NAME</th>\n",
       "      <th>COUNTY_NAME</th>\n",
       "      <th>STATE_CODE</th>\n",
       "      <th>COUNTY_CODE</th>\n",
       "      <th>DATE</th>\n",
       "      <th>AQI</th>\n",
       "      <th>CATEGORY</th>\n",
       "      <th>DEFINING_PARAMETER</th>\n",
       "      <th>DEFINING_SITE</th>\n",
       "      <th>NUMBER_OF_SITES_REPORTING</th>\n",
       "      <th>YEAR</th>\n",
       "      <th>DISCOVERY_DATE</th>\n",
       "    </tr>\n",
       "  </thead>\n",
       "  <tbody>\n",
       "    <tr>\n",
       "      <th>0</th>\n",
       "      <td>Alabama</td>\n",
       "      <td>Calhoun</td>\n",
       "      <td>1</td>\n",
       "      <td>15</td>\n",
       "      <td>1992-01-01</td>\n",
       "      <td>12</td>\n",
       "      <td>Good</td>\n",
       "      <td>PM10</td>\n",
       "      <td>01-015-0001</td>\n",
       "      <td>1</td>\n",
       "      <td>1992</td>\n",
       "      <td>1992-01-01</td>\n",
       "    </tr>\n",
       "    <tr>\n",
       "      <th>1</th>\n",
       "      <td>Alabama</td>\n",
       "      <td>Calhoun</td>\n",
       "      <td>1</td>\n",
       "      <td>15</td>\n",
       "      <td>1992-01-07</td>\n",
       "      <td>28</td>\n",
       "      <td>Good</td>\n",
       "      <td>PM10</td>\n",
       "      <td>01-015-0001</td>\n",
       "      <td>1</td>\n",
       "      <td>1992</td>\n",
       "      <td>1992-01-07</td>\n",
       "    </tr>\n",
       "    <tr>\n",
       "      <th>2</th>\n",
       "      <td>Alabama</td>\n",
       "      <td>Calhoun</td>\n",
       "      <td>1</td>\n",
       "      <td>15</td>\n",
       "      <td>1992-01-13</td>\n",
       "      <td>6</td>\n",
       "      <td>Good</td>\n",
       "      <td>PM10</td>\n",
       "      <td>01-015-0001</td>\n",
       "      <td>1</td>\n",
       "      <td>1992</td>\n",
       "      <td>1992-01-13</td>\n",
       "    </tr>\n",
       "    <tr>\n",
       "      <th>3</th>\n",
       "      <td>Alabama</td>\n",
       "      <td>Calhoun</td>\n",
       "      <td>1</td>\n",
       "      <td>15</td>\n",
       "      <td>1992-01-19</td>\n",
       "      <td>12</td>\n",
       "      <td>Good</td>\n",
       "      <td>PM10</td>\n",
       "      <td>01-015-0001</td>\n",
       "      <td>1</td>\n",
       "      <td>1992</td>\n",
       "      <td>1992-01-19</td>\n",
       "    </tr>\n",
       "    <tr>\n",
       "      <th>4</th>\n",
       "      <td>Alabama</td>\n",
       "      <td>Calhoun</td>\n",
       "      <td>1</td>\n",
       "      <td>15</td>\n",
       "      <td>1992-01-25</td>\n",
       "      <td>13</td>\n",
       "      <td>Good</td>\n",
       "      <td>PM10</td>\n",
       "      <td>01-015-0001</td>\n",
       "      <td>1</td>\n",
       "      <td>1992</td>\n",
       "      <td>1992-01-25</td>\n",
       "    </tr>\n",
       "  </tbody>\n",
       "</table>\n",
       "</div>"
      ],
      "text/plain": [
       "  STATE_NAME COUNTY_NAME  STATE_CODE  COUNTY_CODE       DATE  AQI CATEGORY  \\\n",
       "0    Alabama     Calhoun           1           15 1992-01-01   12     Good   \n",
       "1    Alabama     Calhoun           1           15 1992-01-07   28     Good   \n",
       "2    Alabama     Calhoun           1           15 1992-01-13    6     Good   \n",
       "3    Alabama     Calhoun           1           15 1992-01-19   12     Good   \n",
       "4    Alabama     Calhoun           1           15 1992-01-25   13     Good   \n",
       "\n",
       "  DEFINING_PARAMETER DEFINING_SITE  NUMBER_OF_SITES_REPORTING  YEAR  \\\n",
       "0               PM10   01-015-0001                          1  1992   \n",
       "1               PM10   01-015-0001                          1  1992   \n",
       "2               PM10   01-015-0001                          1  1992   \n",
       "3               PM10   01-015-0001                          1  1992   \n",
       "4               PM10   01-015-0001                          1  1992   \n",
       "\n",
       "  DISCOVERY_DATE  \n",
       "0     1992-01-01  \n",
       "1     1992-01-07  \n",
       "2     1992-01-13  \n",
       "3     1992-01-19  \n",
       "4     1992-01-25  "
      ]
     },
     "execution_count": 9,
     "metadata": {},
     "output_type": "execute_result"
    }
   ],
   "source": [
    "df_aqi['DATE'] = pd.to_datetime(df_aqi['DATE'])\n",
    "df_aqi['DISCOVERY_DATE'] = df_aqi['DATE']\n",
    "\n",
    "df_aqi.head()"
   ]
  },
  {
   "cell_type": "code",
   "execution_count": 10,
   "metadata": {},
   "outputs": [
    {
     "data": {
      "text/html": [
       "<div>\n",
       "<style scoped>\n",
       "    .dataframe tbody tr th:only-of-type {\n",
       "        vertical-align: middle;\n",
       "    }\n",
       "\n",
       "    .dataframe tbody tr th {\n",
       "        vertical-align: top;\n",
       "    }\n",
       "\n",
       "    .dataframe thead th {\n",
       "        text-align: right;\n",
       "    }\n",
       "</style>\n",
       "<table border=\"1\" class=\"dataframe\">\n",
       "  <thead>\n",
       "    <tr style=\"text-align: right;\">\n",
       "      <th></th>\n",
       "      <th>FIRE_NAME</th>\n",
       "      <th>FIRE_YEAR</th>\n",
       "      <th>FIRE_SIZE</th>\n",
       "      <th>DISCOVERY_DATE</th>\n",
       "      <th>CONT_DATE</th>\n",
       "      <th>STAT_CAUSE_DESCR</th>\n",
       "      <th>STATE_NAME</th>\n",
       "      <th>COUNTY_NAME</th>\n",
       "      <th>STATE_CODE</th>\n",
       "      <th>COUNTY_CODE</th>\n",
       "      <th>LATITUDE</th>\n",
       "      <th>LONGITUDE</th>\n",
       "      <th>CONT_TIME</th>\n",
       "      <th>DAYS</th>\n",
       "    </tr>\n",
       "  </thead>\n",
       "  <tbody>\n",
       "    <tr>\n",
       "      <th>30</th>\n",
       "      <td>HANGER FIRE</td>\n",
       "      <td>2006</td>\n",
       "      <td>0.1</td>\n",
       "      <td>2006-05-23</td>\n",
       "      <td>2006-05-23</td>\n",
       "      <td>Debris Burning</td>\n",
       "      <td>Alaska</td>\n",
       "      <td>Kenai Peninsula</td>\n",
       "      <td>2</td>\n",
       "      <td>122</td>\n",
       "      <td>60.526667</td>\n",
       "      <td>-149.515000</td>\n",
       "      <td>1500.0</td>\n",
       "      <td>0.0</td>\n",
       "    </tr>\n",
       "    <tr>\n",
       "      <th>31</th>\n",
       "      <td>DUNLEAVEY FIRE</td>\n",
       "      <td>2006</td>\n",
       "      <td>0.1</td>\n",
       "      <td>2006-05-25</td>\n",
       "      <td>2006-05-25</td>\n",
       "      <td>Debris Burning</td>\n",
       "      <td>Alaska</td>\n",
       "      <td>Kenai Peninsula</td>\n",
       "      <td>2</td>\n",
       "      <td>122</td>\n",
       "      <td>60.521667</td>\n",
       "      <td>-149.481667</td>\n",
       "      <td>815.0</td>\n",
       "      <td>0.0</td>\n",
       "    </tr>\n",
       "    <tr>\n",
       "      <th>32</th>\n",
       "      <td>FIRECRACKER</td>\n",
       "      <td>2006</td>\n",
       "      <td>0.1</td>\n",
       "      <td>2006-07-04</td>\n",
       "      <td>2006-07-04</td>\n",
       "      <td>Campfire</td>\n",
       "      <td>Alaska</td>\n",
       "      <td>Kenai Peninsula</td>\n",
       "      <td>2</td>\n",
       "      <td>122</td>\n",
       "      <td>60.483333</td>\n",
       "      <td>-149.906667</td>\n",
       "      <td>1415.0</td>\n",
       "      <td>0.0</td>\n",
       "    </tr>\n",
       "    <tr>\n",
       "      <th>33</th>\n",
       "      <td>GWINS FIRE</td>\n",
       "      <td>2006</td>\n",
       "      <td>0.1</td>\n",
       "      <td>2006-07-10</td>\n",
       "      <td>2006-07-10</td>\n",
       "      <td>Campfire</td>\n",
       "      <td>Alaska</td>\n",
       "      <td>Kenai Peninsula</td>\n",
       "      <td>2</td>\n",
       "      <td>122</td>\n",
       "      <td>60.493333</td>\n",
       "      <td>-149.906667</td>\n",
       "      <td>1655.0</td>\n",
       "      <td>0.0</td>\n",
       "    </tr>\n",
       "    <tr>\n",
       "      <th>34</th>\n",
       "      <td>MILE 15.5 FIRE</td>\n",
       "      <td>2006</td>\n",
       "      <td>0.1</td>\n",
       "      <td>2006-08-07</td>\n",
       "      <td>2006-08-08</td>\n",
       "      <td>Campfire</td>\n",
       "      <td>Alaska</td>\n",
       "      <td>Kenai Peninsula</td>\n",
       "      <td>2</td>\n",
       "      <td>122</td>\n",
       "      <td>60.303333</td>\n",
       "      <td>-149.363889</td>\n",
       "      <td>1000.0</td>\n",
       "      <td>1.0</td>\n",
       "    </tr>\n",
       "  </tbody>\n",
       "</table>\n",
       "</div>"
      ],
      "text/plain": [
       "         FIRE_NAME  FIRE_YEAR  FIRE_SIZE DISCOVERY_DATE  CONT_DATE  \\\n",
       "30     HANGER FIRE       2006        0.1     2006-05-23 2006-05-23   \n",
       "31  DUNLEAVEY FIRE       2006        0.1     2006-05-25 2006-05-25   \n",
       "32     FIRECRACKER       2006        0.1     2006-07-04 2006-07-04   \n",
       "33      GWINS FIRE       2006        0.1     2006-07-10 2006-07-10   \n",
       "34  MILE 15.5 FIRE       2006        0.1     2006-08-07 2006-08-08   \n",
       "\n",
       "   STAT_CAUSE_DESCR STATE_NAME      COUNTY_NAME  STATE_CODE  COUNTY_CODE  \\\n",
       "30   Debris Burning     Alaska  Kenai Peninsula           2          122   \n",
       "31   Debris Burning     Alaska  Kenai Peninsula           2          122   \n",
       "32         Campfire     Alaska  Kenai Peninsula           2          122   \n",
       "33         Campfire     Alaska  Kenai Peninsula           2          122   \n",
       "34         Campfire     Alaska  Kenai Peninsula           2          122   \n",
       "\n",
       "     LATITUDE   LONGITUDE  CONT_TIME  DAYS  \n",
       "30  60.526667 -149.515000     1500.0   0.0  \n",
       "31  60.521667 -149.481667      815.0   0.0  \n",
       "32  60.483333 -149.906667     1415.0   0.0  \n",
       "33  60.493333 -149.906667     1655.0   0.0  \n",
       "34  60.303333 -149.363889     1000.0   1.0  "
      ]
     },
     "execution_count": 10,
     "metadata": {},
     "output_type": "execute_result"
    }
   ],
   "source": [
    "df_fires = df.groupby(\"FIRE_YEAR\").get_group(2006)\n",
    "df_fires = df_fires.dropna()\n",
    "df_fires['DISCOVERY_DATE'] = pd.to_datetime(df_fires['DISCOVERY_DATE'])\n",
    "df_fires['CONT_DATE'] = pd.to_datetime(df_fires['CONT_DATE'])\n",
    "\n",
    "df_fires['DAYS'] =(df_fires['CONT_DATE'] - df_fires['DISCOVERY_DATE'])/np.timedelta64(1, 'D')\n",
    "df_fires = df_fires.rename(columns={'FIPS_STATE':'STATE_CODE', 'FIPS_CODE':'COUNTY_CODE', 'STATE': 'STATE_NAME'})\n",
    "df_fires.head()\n"
   ]
  },
  {
   "cell_type": "code",
   "execution_count": 11,
   "metadata": {},
   "outputs": [
    {
     "data": {
      "text/plain": [
       "[8.0, None, 12.0, 10.0, None, 22.0, None, None, None, None]"
      ]
     },
     "execution_count": 11,
     "metadata": {},
     "output_type": "execute_result"
    }
   ],
   "source": [
    "col = []\n",
    "for n in df_fires.index.values[0:10]:\n",
    "    col.append(u.get_aqi_avg(df_aqi, df_fires.loc[n], [0, df_fires.loc[n].DAYS], 2006))\n",
    "col"
   ]
  },
  {
   "cell_type": "code",
   "execution_count": 12,
   "metadata": {},
   "outputs": [],
   "source": [
    "## Experimenting\n",
    "df_merged = pd.merge(df_fires,df_aqi, on=['STATE_CODE', 'COUNTY_CODE', 'DISCOVERY_DATE'])\n",
    "df_merged = df_merged.dropna()\n",
    "df_merged = df_merged[df_merged['FIRE_SIZE'] > 20]"
   ]
  },
  {
   "cell_type": "code",
   "execution_count": 13,
   "metadata": {},
   "outputs": [],
   "source": [
    "#df_merged[0:3].apply(lambda r: u.get_aqi_change2(df_aqi, r, 2006),axis=1)\n",
    "col = df_merged[0:2500].apply(lambda r: u.get_aqi_avg(df_aqi,r, [0, r.DAYS], 2006), axis=1)"
   ]
  },
  {
   "cell_type": "code",
   "execution_count": 14,
   "metadata": {},
   "outputs": [
    {
     "data": {
      "text/html": [
       "<div>\n",
       "<style scoped>\n",
       "    .dataframe tbody tr th:only-of-type {\n",
       "        vertical-align: middle;\n",
       "    }\n",
       "\n",
       "    .dataframe tbody tr th {\n",
       "        vertical-align: top;\n",
       "    }\n",
       "\n",
       "    .dataframe thead th {\n",
       "        text-align: right;\n",
       "    }\n",
       "</style>\n",
       "<table border=\"1\" class=\"dataframe\">\n",
       "  <thead>\n",
       "    <tr style=\"text-align: right;\">\n",
       "      <th></th>\n",
       "      <th>FIRE_NAME</th>\n",
       "      <th>FIRE_YEAR</th>\n",
       "      <th>FIRE_SIZE</th>\n",
       "      <th>DISCOVERY_DATE</th>\n",
       "      <th>CONT_DATE</th>\n",
       "      <th>STAT_CAUSE_DESCR</th>\n",
       "      <th>STATE_NAME_x</th>\n",
       "      <th>COUNTY_NAME_x</th>\n",
       "      <th>STATE_CODE</th>\n",
       "      <th>COUNTY_CODE</th>\n",
       "      <th>...</th>\n",
       "      <th>STATE_NAME_y</th>\n",
       "      <th>COUNTY_NAME_y</th>\n",
       "      <th>DATE</th>\n",
       "      <th>AQI</th>\n",
       "      <th>CATEGORY</th>\n",
       "      <th>DEFINING_PARAMETER</th>\n",
       "      <th>DEFINING_SITE</th>\n",
       "      <th>NUMBER_OF_SITES_REPORTING</th>\n",
       "      <th>YEAR</th>\n",
       "      <th>AQI_AVG</th>\n",
       "    </tr>\n",
       "  </thead>\n",
       "  <tbody>\n",
       "    <tr>\n",
       "      <th>8</th>\n",
       "      <td>LAKE HOWARD</td>\n",
       "      <td>2006</td>\n",
       "      <td>21.7</td>\n",
       "      <td>2006-06-22</td>\n",
       "      <td>2006-07-01</td>\n",
       "      <td>Arson</td>\n",
       "      <td>Alabama</td>\n",
       "      <td>Talladega</td>\n",
       "      <td>1</td>\n",
       "      <td>121</td>\n",
       "      <td>...</td>\n",
       "      <td>Alabama</td>\n",
       "      <td>Talladega</td>\n",
       "      <td>2006-06-22</td>\n",
       "      <td>90</td>\n",
       "      <td>Moderate</td>\n",
       "      <td>Ozone</td>\n",
       "      <td>01-121-0003</td>\n",
       "      <td>2</td>\n",
       "      <td>2006</td>\n",
       "      <td>81.0</td>\n",
       "    </tr>\n",
       "    <tr>\n",
       "      <th>10</th>\n",
       "      <td>MUMP CREEK</td>\n",
       "      <td>2006</td>\n",
       "      <td>57.0</td>\n",
       "      <td>2006-09-09</td>\n",
       "      <td>2006-09-11</td>\n",
       "      <td>Railroad</td>\n",
       "      <td>Alabama</td>\n",
       "      <td>Talladega</td>\n",
       "      <td>1</td>\n",
       "      <td>121</td>\n",
       "      <td>...</td>\n",
       "      <td>Alabama</td>\n",
       "      <td>Talladega</td>\n",
       "      <td>2006-09-09</td>\n",
       "      <td>41</td>\n",
       "      <td>Good</td>\n",
       "      <td>Ozone</td>\n",
       "      <td>01-121-0003</td>\n",
       "      <td>1</td>\n",
       "      <td>2006</td>\n",
       "      <td>45.0</td>\n",
       "    </tr>\n",
       "    <tr>\n",
       "      <th>11</th>\n",
       "      <td>TALLADEGA MOUNTAIN</td>\n",
       "      <td>2006</td>\n",
       "      <td>84.0</td>\n",
       "      <td>2006-08-09</td>\n",
       "      <td>2006-08-12</td>\n",
       "      <td>Lightning</td>\n",
       "      <td>Alabama</td>\n",
       "      <td>Talladega</td>\n",
       "      <td>1</td>\n",
       "      <td>121</td>\n",
       "      <td>...</td>\n",
       "      <td>Alabama</td>\n",
       "      <td>Talladega</td>\n",
       "      <td>2006-08-09</td>\n",
       "      <td>71</td>\n",
       "      <td>Moderate</td>\n",
       "      <td>Ozone</td>\n",
       "      <td>01-121-0003</td>\n",
       "      <td>1</td>\n",
       "      <td>2006</td>\n",
       "      <td>56.0</td>\n",
       "    </tr>\n",
       "    <tr>\n",
       "      <th>12</th>\n",
       "      <td>MITCHELL</td>\n",
       "      <td>2006</td>\n",
       "      <td>26.0</td>\n",
       "      <td>2006-03-16</td>\n",
       "      <td>2006-03-16</td>\n",
       "      <td>Arson</td>\n",
       "      <td>Alabama</td>\n",
       "      <td>Talladega</td>\n",
       "      <td>1</td>\n",
       "      <td>121</td>\n",
       "      <td>...</td>\n",
       "      <td>Alabama</td>\n",
       "      <td>Talladega</td>\n",
       "      <td>2006-03-16</td>\n",
       "      <td>43</td>\n",
       "      <td>Good</td>\n",
       "      <td>Ozone</td>\n",
       "      <td>01-121-0003</td>\n",
       "      <td>1</td>\n",
       "      <td>2006</td>\n",
       "      <td>43.0</td>\n",
       "    </tr>\n",
       "    <tr>\n",
       "      <th>14</th>\n",
       "      <td>SYLACAUGA</td>\n",
       "      <td>2006</td>\n",
       "      <td>265.0</td>\n",
       "      <td>2006-03-17</td>\n",
       "      <td>2006-03-17</td>\n",
       "      <td>Arson</td>\n",
       "      <td>Alabama</td>\n",
       "      <td>Talladega</td>\n",
       "      <td>1</td>\n",
       "      <td>121</td>\n",
       "      <td>...</td>\n",
       "      <td>Alabama</td>\n",
       "      <td>Talladega</td>\n",
       "      <td>2006-03-17</td>\n",
       "      <td>38</td>\n",
       "      <td>Good</td>\n",
       "      <td>Ozone</td>\n",
       "      <td>01-121-0003</td>\n",
       "      <td>1</td>\n",
       "      <td>2006</td>\n",
       "      <td>38.0</td>\n",
       "    </tr>\n",
       "  </tbody>\n",
       "</table>\n",
       "<p>5 rows × 24 columns</p>\n",
       "</div>"
      ],
      "text/plain": [
       "             FIRE_NAME  FIRE_YEAR  FIRE_SIZE DISCOVERY_DATE  CONT_DATE  \\\n",
       "8          LAKE HOWARD       2006       21.7     2006-06-22 2006-07-01   \n",
       "10          MUMP CREEK       2006       57.0     2006-09-09 2006-09-11   \n",
       "11  TALLADEGA MOUNTAIN       2006       84.0     2006-08-09 2006-08-12   \n",
       "12            MITCHELL       2006       26.0     2006-03-16 2006-03-16   \n",
       "14           SYLACAUGA       2006      265.0     2006-03-17 2006-03-17   \n",
       "\n",
       "   STAT_CAUSE_DESCR STATE_NAME_x COUNTY_NAME_x  STATE_CODE  COUNTY_CODE  ...  \\\n",
       "8             Arson      Alabama     Talladega           1          121  ...   \n",
       "10         Railroad      Alabama     Talladega           1          121  ...   \n",
       "11        Lightning      Alabama     Talladega           1          121  ...   \n",
       "12            Arson      Alabama     Talladega           1          121  ...   \n",
       "14            Arson      Alabama     Talladega           1          121  ...   \n",
       "\n",
       "    STATE_NAME_y  COUNTY_NAME_y       DATE  AQI  CATEGORY DEFINING_PARAMETER  \\\n",
       "8        Alabama      Talladega 2006-06-22   90  Moderate              Ozone   \n",
       "10       Alabama      Talladega 2006-09-09   41      Good              Ozone   \n",
       "11       Alabama      Talladega 2006-08-09   71  Moderate              Ozone   \n",
       "12       Alabama      Talladega 2006-03-16   43      Good              Ozone   \n",
       "14       Alabama      Talladega 2006-03-17   38      Good              Ozone   \n",
       "\n",
       "   DEFINING_SITE  NUMBER_OF_SITES_REPORTING  YEAR AQI_AVG  \n",
       "8    01-121-0003                          2  2006    81.0  \n",
       "10   01-121-0003                          1  2006    45.0  \n",
       "11   01-121-0003                          1  2006    56.0  \n",
       "12   01-121-0003                          1  2006    43.0  \n",
       "14   01-121-0003                          1  2006    38.0  \n",
       "\n",
       "[5 rows x 24 columns]"
      ]
     },
     "execution_count": 14,
     "metadata": {},
     "output_type": "execute_result"
    }
   ],
   "source": [
    "df_small = pd.DataFrame(df_merged[0:2500])\n",
    "df_small['AQI_AVG'] = col\n",
    "df_small.head()"
   ]
  },
  {
   "cell_type": "code",
   "execution_count": 15,
   "metadata": {},
   "outputs": [
    {
     "data": {
      "text/plain": [
       "Text(0, 0.5, 'Average AQI')"
      ]
     },
     "execution_count": 15,
     "metadata": {},
     "output_type": "execute_result"
    },
    {
     "data": {
      "image/png": "[encoded data removed]",
      "text/plain": [
       "<Figure size 720x360 with 1 Axes>"
      ]
     },
     "metadata": {
      "needs_background": "light"
     },
     "output_type": "display_data"
    }
   ],
   "source": [
    "fig, ax1 = plt.subplots(1,1, figsize=(10, 5))\n",
    "\n",
    "ax1.scatter(x=df_small['FIRE_SIZE'], y=df_small['AQI_AVG'], marker='o', c='r', edgecolor='b')\n",
    "ax1.set_title('Scatter: Fire Size vs. Average AQI')\n",
    "ax1.set_xlabel('Fire Size')\n",
    "ax1.set_ylabel('Average AQI')"
   ]
  },
  {
   "cell_type": "markdown",
   "metadata": {},
   "source": [
    "## Investigate Stated Causes of Fires"
   ]
  },
  {
   "cell_type": "code",
   "execution_count": 88,
   "metadata": {},
   "outputs": [],
   "source": [
    "fires_2006 = fires_by_year.get_group(2006)\n",
    "fires_1998 = fires_by_year.get_group(1998)\n",
    "\n",
    "causes_2006 = fires_2006.groupby(\"STAT_CAUSE_DESCR\")\n",
    "causes_1998 = fires_1998.groupby(\"STAT_CAUSE_DESCR\")"
   ]
  },
  {
   "cell_type": "code",
   "execution_count": 89,
   "metadata": {},
   "outputs": [
    {
     "data": {
      "text/plain": [
       "STAT_CAUSE_DESCR\n",
       "Arson                4488\n",
       "Debris Burning       4392\n",
       "Lightning            4030\n",
       "Miscellaneous        2786\n",
       "Equipment Use        2265\n",
       "Railroad             1393\n",
       "Missing/Undefined    1200\n",
       "Campfire             1021\n",
       "Children              808\n",
       "Smoking               802\n",
       "Powerline             257\n",
       "Fireworks             107\n",
       "Structure              49\n",
       "dtype: int64"
      ]
     },
     "execution_count": 89,
     "metadata": {},
     "output_type": "execute_result"
    }
   ],
   "source": [
    "causes_1998.size().sort_values(ascending=False)"
   ]
  },
  {
   "cell_type": "code",
   "execution_count": 90,
   "metadata": {},
   "outputs": [
    {
     "data": {
      "text/plain": [
       "STAT_CAUSE_DESCR\n",
       "Debris Burning       22261\n",
       "Miscellaneous        17147\n",
       "Lightning            14172\n",
       "Arson                13074\n",
       "Equipment Use         7205\n",
       "Missing/Undefined     6214\n",
       "Smoking               2373\n",
       "Children              2317\n",
       "Campfire              2221\n",
       "Railroad               901\n",
       "Powerline              163\n",
       "Fireworks               41\n",
       "Structure               17\n",
       "dtype: int64"
      ]
     },
     "execution_count": 90,
     "metadata": {},
     "output_type": "execute_result"
    }
   ],
   "source": [
    "causes_2006.size().sort_values(ascending=False)"
   ]
  },
  {
   "cell_type": "markdown",
   "metadata": {},
   "source": [
    "### Top 20 state-counties with the most wildfires in 2006"
   ]
  },
  {
   "cell_type": "code",
   "execution_count": 91,
   "metadata": {},
   "outputs": [
    {
     "data": {
      "text/plain": [
       "STATE       COUNTY_NAME\n",
       "New York    Suffolk        738\n",
       "Arizona     Coconino       669\n",
       "Hawaii      Honolulu       550\n",
       "New York    Orange         381\n",
       "Minnesota   St Louis       347\n",
       "Texas       Atascosa       346\n",
       "New York    Nassau         337\n",
       "Oregon      Grant          333\n",
       "Idaho       Idaho          325\n",
       "Arizona     Mohave         318\n",
       "New York    Erie           313\n",
       "Texas       Wood           309\n",
       "California  Riverside      308\n",
       "New York    Monroe         305\n",
       "Louisiana   Beauregard     300\n",
       "Alabama     Mobile         297\n",
       "Montana     Lincoln        292\n",
       "Louisiana   St Tammany     289\n",
       "Texas       Smith          283\n",
       "California  Los Angeles    283\n",
       "dtype: int64"
      ]
     },
     "execution_count": 91,
     "metadata": {},
     "output_type": "execute_result"
    }
   ],
   "source": [
    "# We can groupby FIPS_STATE and FIPS_CODE, but easier for humans to read if we groupby STATE, COUNTY_NAME\n",
    "county_state_2006 = fires_2006.groupby([\"STATE\", \"COUNTY_NAME\"])\n",
    "county_state_2006.size().sort_values(ascending=False)[:20]"
   ]
  },
  {
   "cell_type": "markdown",
   "metadata": {},
   "source": [
    "Top 10 states with the most wildfires in 2006\n"
   ]
  },
  {
   "cell_type": "code",
   "execution_count": 92,
   "metadata": {},
   "outputs": [
    {
     "data": {
      "text/plain": [
       "STATE\n",
       "Texas             14597\n",
       "Georgia            8868\n",
       "New York           6610\n",
       "North Carolina     5010\n",
       "Florida            4723\n",
       "Alabama            3936\n",
       "California         3367\n",
       "Oregon             3036\n",
       "Louisiana          3013\n",
       "South Carolina     2836\n",
       "dtype: int64"
      ]
     },
     "execution_count": 92,
     "metadata": {},
     "output_type": "execute_result"
    }
   ],
   "source": [
    "# We can groupby FIPS_STATE and FIPS_CODE, but easier for humans to read if we groupby STATE, COUNTY_NAME\n",
    "state_2006 = fires_2006.groupby([\"STATE\"])\n",
    "state_2006.size().sort_values(ascending=False)[:10]"
   ]
  },
  {
   "cell_type": "code",
   "execution_count": 104,
   "metadata": {
    "scrolled": true
   },
   "outputs": [
    {
     "data": {
      "text/plain": [
       "STATE\n",
       "Georgia           150234\n",
       "Texas             136462\n",
       "Florida            83601\n",
       "New York           80018\n",
       "California         56221\n",
       "South Carolina     53341\n",
       "Mississippi        48295\n",
       "North Carolina     47592\n",
       "Alabama            41560\n",
       "Oregon             40178\n",
       "dtype: int64"
      ]
     },
     "execution_count": 104,
     "metadata": {},
     "output_type": "execute_result"
    }
   ],
   "source": [
    "# Top 10 states with most wildfires alltime 1992-2015\n",
    "state = df.groupby([\"STATE\"])\n",
    "state.size().sort_values(ascending=False)[:10]"
   ]
  },
  {
   "cell_type": "markdown",
   "metadata": {},
   "source": [
    "### States with most acres burned based on fire size"
   ]
  },
  {
   "cell_type": "code",
   "execution_count": 105,
   "metadata": {},
   "outputs": [
    {
     "data": {
      "text/plain": [
       "STATE\n",
       "Idaho          9.591734e+06\n",
       "Texas          7.953988e+06\n",
       "Nevada         7.421757e+06\n",
       "California     6.524384e+06\n",
       "Oregon         5.792585e+06\n",
       "New Mexico     4.187921e+06\n",
       "Montana        3.628712e+06\n",
       "Washington     3.057350e+06\n",
       "Florida        3.032167e+06\n",
       "Utah           2.886954e+06\n",
       "Arizona        2.553902e+06\n",
       "Alaska         2.285323e+06\n",
       "Oklahoma       1.530667e+06\n",
       "Wyoming        1.501708e+06\n",
       "Colorado       1.208078e+06\n",
       "Minnesota      8.183956e+05\n",
       "Kansas         7.970291e+05\n",
       "Georgia        7.519269e+05\n",
       "Mississippi    7.162935e+05\n",
       "Alabama        5.979095e+05\n",
       "Name: FIRE_SIZE, dtype: float64"
      ]
     },
     "execution_count": 105,
     "metadata": {},
     "output_type": "execute_result"
    }
   ],
   "source": [
    "state[\"FIRE_SIZE\"].sum().sort_values(ascending=False)[:20]"
   ]
  },
  {
   "cell_type": "markdown",
   "metadata": {},
   "source": [
    "### California acres burned by year"
   ]
  },
  {
   "cell_type": "code",
   "execution_count": 117,
   "metadata": {},
   "outputs": [],
   "source": [
    "CA = df[df[\"STATE\"] == \"California\"]\n",
    "AL = df[df[\"STATE\"] == \"Alaska\"]\n",
    "ID = df[df[\"STATE\"] == \"Idaho\"]"
   ]
  },
  {
   "cell_type": "code",
   "execution_count": 113,
   "metadata": {},
   "outputs": [
    {
     "data": {
      "text/plain": [
       "FIRE_YEAR\n",
       "1997         14.90\n",
       "1998      15709.70\n",
       "1999      73361.80\n",
       "2000      41184.70\n",
       "2001      95824.30\n",
       "2002     138900.50\n",
       "2003     283607.74\n",
       "2004      95108.67\n",
       "2005      60821.50\n",
       "2006     672051.94\n",
       "2007     910144.52\n",
       "2008    1176897.80\n",
       "2009     356014.33\n",
       "2010      81301.26\n",
       "2011      84625.69\n",
       "2012     711661.13\n",
       "2013     544348.06\n",
       "2014     507431.63\n",
       "2015     675373.61\n",
       "Name: FIRE_SIZE, dtype: float64"
      ]
     },
     "execution_count": 113,
     "metadata": {},
     "output_type": "execute_result"
    }
   ],
   "source": [
    "CA.groupby(\"FIRE_YEAR\")[\"FIRE_SIZE\"].sum()"
   ]
  },
  {
   "cell_type": "code",
   "execution_count": 116,
   "metadata": {},
   "outputs": [
    {
     "data": {
      "text/plain": [
       "FIRE_YEAR\n",
       "1997          2.00\n",
       "2004          0.50\n",
       "2005        353.25\n",
       "2006          5.20\n",
       "2007          4.00\n",
       "2008          1.20\n",
       "2009         22.27\n",
       "2010         14.10\n",
       "2012          1.20\n",
       "2013        136.10\n",
       "2014     198275.08\n",
       "2015    2086507.76\n",
       "Name: FIRE_SIZE, dtype: float64"
      ]
     },
     "execution_count": 116,
     "metadata": {},
     "output_type": "execute_result"
    }
   ],
   "source": [
    "AL.groupby(\"FIRE_YEAR\")[\"FIRE_SIZE\"].sum()"
   ]
  },
  {
   "cell_type": "code",
   "execution_count": 118,
   "metadata": {},
   "outputs": [
    {
     "data": {
      "text/plain": [
       "FIRE_YEAR\n",
       "1992       3196.00\n",
       "1993        842.70\n",
       "1994      11735.00\n",
       "1995       1545.60\n",
       "1996      27623.10\n",
       "1997       1432.30\n",
       "1998       9781.60\n",
       "1999     382231.42\n",
       "2000     589100.98\n",
       "2001     163844.82\n",
       "2002      72382.15\n",
       "2003     201862.93\n",
       "2004      11709.78\n",
       "2005     600871.83\n",
       "2006     903992.13\n",
       "2007    2068452.94\n",
       "2008     168701.06\n",
       "2009      23432.81\n",
       "2010     642887.96\n",
       "2011     232460.61\n",
       "2012    1772657.44\n",
       "2013     738809.00\n",
       "2014     195085.87\n",
       "2015     767094.21\n",
       "Name: FIRE_SIZE, dtype: float64"
      ]
     },
     "execution_count": 118,
     "metadata": {},
     "output_type": "execute_result"
    }
   ],
   "source": [
    "ID.groupby(\"FIRE_YEAR\")[\"FIRE_SIZE\"].sum()"
   ]
  },
  {
   "cell_type": "markdown",
   "metadata": {},
   "source": [
    "### For 2006, group by state, county, and date"
   ]
  },
  {
   "cell_type": "code",
   "execution_count": 124,
   "metadata": {},
   "outputs": [],
   "source": [
    "state_county_date = fires_2006.groupby([\"STATE\", \"COUNTY_NAME\", \"DISCOVERY_DATE\"])"
   ]
  },
  {
   "cell_type": "code",
   "execution_count": 129,
   "metadata": {},
   "outputs": [
    {
     "data": {
      "text/plain": [
       "STATE    COUNTY_NAME  DISCOVERY_DATE\n",
       "Alabama  Autauga      2006-01-04        1\n",
       "                      2006-01-07        2\n",
       "                      2006-01-08        2\n",
       "                      2006-01-16        4\n",
       "                      2006-01-26        1\n",
       "                                       ..\n",
       "Wyoming  Weston       2006-06-11        1\n",
       "                      2006-07-06        1\n",
       "                      2006-07-12        1\n",
       "                      2006-07-30        1\n",
       "                      2006-08-08        1\n",
       "Length: 57652, dtype: int64"
      ]
     },
     "execution_count": 129,
     "metadata": {},
     "output_type": "execute_result"
    }
   ],
   "source": [
    "state_county_date.size()"
   ]
  },
  {
   "cell_type": "markdown",
   "metadata": {},
   "source": [
    "### For 2006, list counties that had the most fires reported in a single day"
   ]
  },
  {
   "cell_type": "code",
   "execution_count": 133,
   "metadata": {},
   "outputs": [
    {
     "data": {
      "text/plain": [
       "STATE       COUNTY_NAME  DISCOVERY_DATE\n",
       "Oregon      Grant        2006-08-08        55\n",
       "New York    Orange       2006-04-12        53\n",
       "Hawaii      Honolulu     2006-07-04        47\n",
       "Oregon      Klamath      2006-08-06        42\n",
       "California  Siskiyou     2006-08-07        37\n",
       "                         2006-07-24        34\n",
       "Idaho       Idaho        2006-08-09        33\n",
       "California  Trinity      2006-08-07        30\n",
       "Louisiana   Beauregard   2006-03-26        29\n",
       "Oregon      Jackson      2006-08-06        28\n",
       "dtype: int64"
      ]
     },
     "execution_count": 133,
     "metadata": {},
     "output_type": "execute_result"
    }
   ],
   "source": [
    "state_county_date.size().sort_values(ascending=False)[:10]"
   ]
  },
  {
   "cell_type": "code",
   "execution_count": null,
   "metadata": {},
   "outputs": [],
   "source": []
  },
  {
   "cell_type": "markdown",
   "metadata": {},
   "source": [
    "### K-Means Clustering"
   ]
  },
  {
   "cell_type": "code",
   "execution_count": 98,
   "metadata": {
    "scrolled": true
   },
   "outputs": [
    {
     "data": {
      "text/html": [
       "<div>\n",
       "<style scoped>\n",
       "    .dataframe tbody tr th:only-of-type {\n",
       "        vertical-align: middle;\n",
       "    }\n",
       "\n",
       "    .dataframe tbody tr th {\n",
       "        vertical-align: top;\n",
       "    }\n",
       "\n",
       "    .dataframe thead th {\n",
       "        text-align: right;\n",
       "    }\n",
       "</style>\n",
       "<table border=\"1\" class=\"dataframe\">\n",
       "  <thead>\n",
       "    <tr style=\"text-align: right;\">\n",
       "      <th></th>\n",
       "      <th>LATITUDE</th>\n",
       "      <th>LONGITUDE</th>\n",
       "      <th>CONT_TIME</th>\n",
       "      <th>AQI_AVG</th>\n",
       "      <th>DAYS</th>\n",
       "      <th>FIRE_SIZE</th>\n",
       "    </tr>\n",
       "  </thead>\n",
       "  <tbody>\n",
       "    <tr>\n",
       "      <th>8</th>\n",
       "      <td>33.208889</td>\n",
       "      <td>-86.208889</td>\n",
       "      <td>1600.0</td>\n",
       "      <td>81.0</td>\n",
       "      <td>9.0</td>\n",
       "      <td>21.7</td>\n",
       "    </tr>\n",
       "    <tr>\n",
       "      <th>10</th>\n",
       "      <td>33.371111</td>\n",
       "      <td>-86.018056</td>\n",
       "      <td>1602.0</td>\n",
       "      <td>45.0</td>\n",
       "      <td>2.0</td>\n",
       "      <td>57.0</td>\n",
       "    </tr>\n",
       "    <tr>\n",
       "      <th>11</th>\n",
       "      <td>33.332778</td>\n",
       "      <td>-86.007222</td>\n",
       "      <td>1200.0</td>\n",
       "      <td>56.0</td>\n",
       "      <td>3.0</td>\n",
       "      <td>84.0</td>\n",
       "    </tr>\n",
       "    <tr>\n",
       "      <th>12</th>\n",
       "      <td>33.537500</td>\n",
       "      <td>-85.819167</td>\n",
       "      <td>1030.0</td>\n",
       "      <td>43.0</td>\n",
       "      <td>0.0</td>\n",
       "      <td>26.0</td>\n",
       "    </tr>\n",
       "    <tr>\n",
       "      <th>14</th>\n",
       "      <td>33.247586</td>\n",
       "      <td>-86.371107</td>\n",
       "      <td>1729.0</td>\n",
       "      <td>38.0</td>\n",
       "      <td>0.0</td>\n",
       "      <td>265.0</td>\n",
       "    </tr>\n",
       "  </tbody>\n",
       "</table>\n",
       "</div>"
      ],
      "text/plain": [
       "     LATITUDE  LONGITUDE  CONT_TIME  AQI_AVG  DAYS  FIRE_SIZE\n",
       "8   33.208889 -86.208889     1600.0     81.0   9.0       21.7\n",
       "10  33.371111 -86.018056     1602.0     45.0   2.0       57.0\n",
       "11  33.332778 -86.007222     1200.0     56.0   3.0       84.0\n",
       "12  33.537500 -85.819167     1030.0     43.0   0.0       26.0\n",
       "14  33.247586 -86.371107     1729.0     38.0   0.0      265.0"
      ]
     },
     "execution_count": 98,
     "metadata": {},
     "output_type": "execute_result"
    }
   ],
   "source": [
    "# by fire: latitude, longitude, cont time, aqi/avg_aqi, days, fire_size\n",
    "# alt: by county: avg aqi, mcc, acres burned by state, # of fires per county\n",
    "columns = [\"LATITUDE\", \"LONGITUDE\", \"CONT_TIME\", \"AQI_AVG\", \"DAYS\", \"FIRE_SIZE\"]\n",
    "df_new = df_small[columns]\n",
    "df_new.head()"
   ]
  },
  {
   "cell_type": "code",
   "execution_count": 99,
   "metadata": {},
   "outputs": [],
   "source": [
    "X_std = StandardScaler().fit_transform(df_new)"
   ]
  },
  {
   "cell_type": "code",
   "execution_count": 100,
   "metadata": {},
   "outputs": [
    {
     "data": {
      "image/png": "[encoded data removed]",
      "text/plain": [
       "<Figure size 360x360 with 1 Axes>"
      ]
     },
     "metadata": {
      "needs_background": "light"
     },
     "output_type": "display_data"
    }
   ],
   "source": [
    "from sklearn.decomposition import PCA\n",
    "pca = PCA(n_components=2)\n",
    "pca.fit(X_std)\n",
    "\n",
    "f = range(pca.n_components_)\n",
    "plt.figure(figsize=(5,5))\n",
    "plt.bar(f, pca.explained_variance_)\n",
    "plt.xticks(f)\n",
    "plt.ylabel('Explained Variance')\n",
    "plt.xlabel('Component')\n",
    "plt.show()"
   ]
  },
  {
   "cell_type": "code",
   "execution_count": 101,
   "metadata": {},
   "outputs": [],
   "source": [
    "pca_data = pca.transform(X_std)\n",
    "df_pca = pd.DataFrame(pca_data)"
   ]
  },
  {
   "cell_type": "code",
   "execution_count": 102,
   "metadata": {},
   "outputs": [],
   "source": [
    "# Fit Kmeans and calculate SSE for each k value\n",
    "sse = {}\n",
    "for k in range(1, 11):\n",
    "    kmeans = KMeans(n_clusters=k, random_state=1)\n",
    "    kmeans.fit(df_pca)\n",
    "    sse[k] = kmeans.inertia_ # sum of squared distances to the closest cluster centers"
   ]
  },
  {
   "cell_type": "code",
   "execution_count": 103,
   "metadata": {},
   "outputs": [
    {
     "data": {
      "image/png": "[encoded data removed]",
      "text/plain": [
       "<Figure size 432x288 with 1 Axes>"
      ]
     },
     "metadata": {
      "needs_background": "light"
     },
     "output_type": "display_data"
    }
   ],
   "source": [
    "plt.title('Elbow Method')\n",
    "plt.xlabel('k')\n",
    "plt.ylabel('SSE')\n",
    "plt.plot(list(sse.keys()), list(sse.values()), 'bx-')\n",
    "plt.show()"
   ]
  },
  {
   "cell_type": "code",
   "execution_count": 104,
   "metadata": {},
   "outputs": [],
   "source": [
    "## Elbow at K = 4\n",
    "kmeans = KMeans(n_clusters=4, random_state=614)\n",
    "kmeans.fit(pca_data)\n",
    "df_pca = df_pca.assign(cluster=kmeans.labels_)\n",
    "df_kmeans = df_small.assign(cluster=kmeans.labels_)"
   ]
  },
  {
   "cell_type": "code",
   "execution_count": 105,
   "metadata": {},
   "outputs": [
    {
     "data": {
      "text/html": [
       "<div>\n",
       "<style scoped>\n",
       "    .dataframe tbody tr th:only-of-type {\n",
       "        vertical-align: middle;\n",
       "    }\n",
       "\n",
       "    .dataframe tbody tr th {\n",
       "        vertical-align: top;\n",
       "    }\n",
       "\n",
       "    .dataframe thead th {\n",
       "        text-align: right;\n",
       "    }\n",
       "</style>\n",
       "<table border=\"1\" class=\"dataframe\">\n",
       "  <thead>\n",
       "    <tr style=\"text-align: right;\">\n",
       "      <th></th>\n",
       "      <th>FIRE_NAME</th>\n",
       "      <th>FIRE_YEAR</th>\n",
       "      <th>FIRE_SIZE</th>\n",
       "      <th>DISCOVERY_DATE</th>\n",
       "      <th>CONT_DATE</th>\n",
       "      <th>STAT_CAUSE_DESCR</th>\n",
       "      <th>STATE_NAME_x</th>\n",
       "      <th>COUNTY_NAME_x</th>\n",
       "      <th>STATE_CODE</th>\n",
       "      <th>COUNTY_CODE</th>\n",
       "      <th>...</th>\n",
       "      <th>COUNTY_NAME_y</th>\n",
       "      <th>DATE</th>\n",
       "      <th>AQI</th>\n",
       "      <th>CATEGORY</th>\n",
       "      <th>DEFINING_PARAMETER</th>\n",
       "      <th>DEFINING_SITE</th>\n",
       "      <th>NUMBER_OF_SITES_REPORTING</th>\n",
       "      <th>YEAR</th>\n",
       "      <th>AQI_AVG</th>\n",
       "      <th>cluster</th>\n",
       "    </tr>\n",
       "  </thead>\n",
       "  <tbody>\n",
       "    <tr>\n",
       "      <th>8</th>\n",
       "      <td>LAKE HOWARD</td>\n",
       "      <td>2006</td>\n",
       "      <td>21.7</td>\n",
       "      <td>2006-06-22</td>\n",
       "      <td>2006-07-01</td>\n",
       "      <td>Arson</td>\n",
       "      <td>Alabama</td>\n",
       "      <td>Talladega</td>\n",
       "      <td>1</td>\n",
       "      <td>121</td>\n",
       "      <td>...</td>\n",
       "      <td>Talladega</td>\n",
       "      <td>2006-06-22</td>\n",
       "      <td>90</td>\n",
       "      <td>Moderate</td>\n",
       "      <td>Ozone</td>\n",
       "      <td>01-121-0003</td>\n",
       "      <td>2</td>\n",
       "      <td>2006</td>\n",
       "      <td>81.0</td>\n",
       "      <td>1</td>\n",
       "    </tr>\n",
       "    <tr>\n",
       "      <th>10</th>\n",
       "      <td>MUMP CREEK</td>\n",
       "      <td>2006</td>\n",
       "      <td>57.0</td>\n",
       "      <td>2006-09-09</td>\n",
       "      <td>2006-09-11</td>\n",
       "      <td>Railroad</td>\n",
       "      <td>Alabama</td>\n",
       "      <td>Talladega</td>\n",
       "      <td>1</td>\n",
       "      <td>121</td>\n",
       "      <td>...</td>\n",
       "      <td>Talladega</td>\n",
       "      <td>2006-09-09</td>\n",
       "      <td>41</td>\n",
       "      <td>Good</td>\n",
       "      <td>Ozone</td>\n",
       "      <td>01-121-0003</td>\n",
       "      <td>1</td>\n",
       "      <td>2006</td>\n",
       "      <td>45.0</td>\n",
       "      <td>1</td>\n",
       "    </tr>\n",
       "    <tr>\n",
       "      <th>11</th>\n",
       "      <td>TALLADEGA MOUNTAIN</td>\n",
       "      <td>2006</td>\n",
       "      <td>84.0</td>\n",
       "      <td>2006-08-09</td>\n",
       "      <td>2006-08-12</td>\n",
       "      <td>Lightning</td>\n",
       "      <td>Alabama</td>\n",
       "      <td>Talladega</td>\n",
       "      <td>1</td>\n",
       "      <td>121</td>\n",
       "      <td>...</td>\n",
       "      <td>Talladega</td>\n",
       "      <td>2006-08-09</td>\n",
       "      <td>71</td>\n",
       "      <td>Moderate</td>\n",
       "      <td>Ozone</td>\n",
       "      <td>01-121-0003</td>\n",
       "      <td>1</td>\n",
       "      <td>2006</td>\n",
       "      <td>56.0</td>\n",
       "      <td>1</td>\n",
       "    </tr>\n",
       "    <tr>\n",
       "      <th>12</th>\n",
       "      <td>MITCHELL</td>\n",
       "      <td>2006</td>\n",
       "      <td>26.0</td>\n",
       "      <td>2006-03-16</td>\n",
       "      <td>2006-03-16</td>\n",
       "      <td>Arson</td>\n",
       "      <td>Alabama</td>\n",
       "      <td>Talladega</td>\n",
       "      <td>1</td>\n",
       "      <td>121</td>\n",
       "      <td>...</td>\n",
       "      <td>Talladega</td>\n",
       "      <td>2006-03-16</td>\n",
       "      <td>43</td>\n",
       "      <td>Good</td>\n",
       "      <td>Ozone</td>\n",
       "      <td>01-121-0003</td>\n",
       "      <td>1</td>\n",
       "      <td>2006</td>\n",
       "      <td>43.0</td>\n",
       "      <td>1</td>\n",
       "    </tr>\n",
       "    <tr>\n",
       "      <th>14</th>\n",
       "      <td>SYLACAUGA</td>\n",
       "      <td>2006</td>\n",
       "      <td>265.0</td>\n",
       "      <td>2006-03-17</td>\n",
       "      <td>2006-03-17</td>\n",
       "      <td>Arson</td>\n",
       "      <td>Alabama</td>\n",
       "      <td>Talladega</td>\n",
       "      <td>1</td>\n",
       "      <td>121</td>\n",
       "      <td>...</td>\n",
       "      <td>Talladega</td>\n",
       "      <td>2006-03-17</td>\n",
       "      <td>38</td>\n",
       "      <td>Good</td>\n",
       "      <td>Ozone</td>\n",
       "      <td>01-121-0003</td>\n",
       "      <td>1</td>\n",
       "      <td>2006</td>\n",
       "      <td>38.0</td>\n",
       "      <td>1</td>\n",
       "    </tr>\n",
       "  </tbody>\n",
       "</table>\n",
       "<p>5 rows × 25 columns</p>\n",
       "</div>"
      ],
      "text/plain": [
       "             FIRE_NAME  FIRE_YEAR  FIRE_SIZE DISCOVERY_DATE  CONT_DATE  \\\n",
       "8          LAKE HOWARD       2006       21.7     2006-06-22 2006-07-01   \n",
       "10          MUMP CREEK       2006       57.0     2006-09-09 2006-09-11   \n",
       "11  TALLADEGA MOUNTAIN       2006       84.0     2006-08-09 2006-08-12   \n",
       "12            MITCHELL       2006       26.0     2006-03-16 2006-03-16   \n",
       "14           SYLACAUGA       2006      265.0     2006-03-17 2006-03-17   \n",
       "\n",
       "   STAT_CAUSE_DESCR STATE_NAME_x COUNTY_NAME_x  STATE_CODE  COUNTY_CODE  ...  \\\n",
       "8             Arson      Alabama     Talladega           1          121  ...   \n",
       "10         Railroad      Alabama     Talladega           1          121  ...   \n",
       "11        Lightning      Alabama     Talladega           1          121  ...   \n",
       "12            Arson      Alabama     Talladega           1          121  ...   \n",
       "14            Arson      Alabama     Talladega           1          121  ...   \n",
       "\n",
       "    COUNTY_NAME_y       DATE  AQI  CATEGORY DEFINING_PARAMETER DEFINING_SITE  \\\n",
       "8       Talladega 2006-06-22   90  Moderate              Ozone   01-121-0003   \n",
       "10      Talladega 2006-09-09   41      Good              Ozone   01-121-0003   \n",
       "11      Talladega 2006-08-09   71  Moderate              Ozone   01-121-0003   \n",
       "12      Talladega 2006-03-16   43      Good              Ozone   01-121-0003   \n",
       "14      Talladega 2006-03-17   38      Good              Ozone   01-121-0003   \n",
       "\n",
       "   NUMBER_OF_SITES_REPORTING  YEAR AQI_AVG cluster  \n",
       "8                          2  2006    81.0       1  \n",
       "10                         1  2006    45.0       1  \n",
       "11                         1  2006    56.0       1  \n",
       "12                         1  2006    43.0       1  \n",
       "14                         1  2006    38.0       1  \n",
       "\n",
       "[5 rows x 25 columns]"
      ]
     },
     "execution_count": 105,
     "metadata": {},
     "output_type": "execute_result"
    }
   ],
   "source": [
    "df_kmeans.head()"
   ]
  },
  {
   "cell_type": "code",
   "execution_count": 106,
   "metadata": {},
   "outputs": [
    {
     "data": {
      "text/plain": [
       "0    483\n",
       "2    185\n",
       "1    154\n",
       "3    124\n",
       "Name: cluster, dtype: int64"
      ]
     },
     "execution_count": 106,
     "metadata": {},
     "output_type": "execute_result"
    }
   ],
   "source": [
    "df_kmeans.cluster.value_counts() ## dominance of one cluster, but that's ok."
   ]
  },
  {
   "cell_type": "code",
   "execution_count": 107,
   "metadata": {},
   "outputs": [
    {
     "data": {
      "text/plain": [
       "Text(0.5, 1.0, 'PCA1 vs. PCA2')"
      ]
     },
     "execution_count": 107,
     "metadata": {},
     "output_type": "execute_result"
    },
    {
     "data": {
      "image/png": "[encoded data removed]",
      "text/plain": [
       "<Figure size 360x360 with 1 Axes>"
      ]
     },
     "metadata": {
      "needs_background": "light"
     },
     "output_type": "display_data"
    }
   ],
   "source": [
    "pca_arr = df_pca.values\n",
    "fig, ax = plt.subplots(figsize=(5,5))\n",
    "plt.scatter(pca_arr[kmeans.labels_ == 0,0], pca_arr[kmeans.labels_ == 0,1], c= 'g', label=\"Cluster 1\")\n",
    "plt.scatter(pca_arr[kmeans.labels_ == 1,0], pca_arr[kmeans.labels_ == 1,1], c= 'b', label=\"Cluster 2\")\n",
    "plt.scatter(pca_arr[kmeans.labels_ == 2,0], pca_arr[kmeans.labels_ == 2,1], c= 'y', label=\"Cluster 3\")\n",
    "plt.scatter(pca_arr[kmeans.labels_ == 3,0], pca_arr[kmeans.labels_ == 3,1], c= 'r', label=\"Cluster 4\")\n",
    "plt.xlabel('PCA1')\n",
    "plt.ylabel('PCA2')\n",
    "plt.title('PCA1 vs. PCA2')\n",
    "\n"
   ]
  },
  {
   "cell_type": "code",
   "execution_count": 108,
   "metadata": {
    "scrolled": true
   },
   "outputs": [
    {
     "data": {
      "text/html": [
       "<div>\n",
       "<style scoped>\n",
       "    .dataframe tbody tr th:only-of-type {\n",
       "        vertical-align: middle;\n",
       "    }\n",
       "\n",
       "    .dataframe tbody tr th {\n",
       "        vertical-align: top;\n",
       "    }\n",
       "\n",
       "    .dataframe thead th {\n",
       "        text-align: right;\n",
       "    }\n",
       "</style>\n",
       "<table border=\"1\" class=\"dataframe\">\n",
       "  <thead>\n",
       "    <tr style=\"text-align: right;\">\n",
       "      <th></th>\n",
       "      <th>FIRE_SIZE</th>\n",
       "      <th>AQI_AVG</th>\n",
       "    </tr>\n",
       "  </thead>\n",
       "  <tbody>\n",
       "    <tr>\n",
       "      <th>8</th>\n",
       "      <td>21.7</td>\n",
       "      <td>81.0</td>\n",
       "    </tr>\n",
       "    <tr>\n",
       "      <th>10</th>\n",
       "      <td>57.0</td>\n",
       "      <td>45.0</td>\n",
       "    </tr>\n",
       "    <tr>\n",
       "      <th>11</th>\n",
       "      <td>84.0</td>\n",
       "      <td>56.0</td>\n",
       "    </tr>\n",
       "    <tr>\n",
       "      <th>12</th>\n",
       "      <td>26.0</td>\n",
       "      <td>43.0</td>\n",
       "    </tr>\n",
       "    <tr>\n",
       "      <th>14</th>\n",
       "      <td>265.0</td>\n",
       "      <td>38.0</td>\n",
       "    </tr>\n",
       "  </tbody>\n",
       "</table>\n",
       "</div>"
      ],
      "text/plain": [
       "    FIRE_SIZE  AQI_AVG\n",
       "8        21.7     81.0\n",
       "10       57.0     45.0\n",
       "11       84.0     56.0\n",
       "12       26.0     43.0\n",
       "14      265.0     38.0"
      ]
     },
     "execution_count": 108,
     "metadata": {},
     "output_type": "execute_result"
    }
   ],
   "source": [
    "# by fire: latitude, longitude, cont time, aqi/avg_aqi, days, fire_size\n",
    "# alt: by county: avg aqi, mcc, acres burned by state, # of fires per county\n",
    "columns = [\"FIRE_SIZE\", \"AQI_AVG\"]\n",
    "df_new = df_small[columns]\n",
    "df_new.head()"
   ]
  },
  {
   "cell_type": "code",
   "execution_count": 109,
   "metadata": {},
   "outputs": [],
   "source": [
    "# Fit Kmeans and calculate SSE for each k value\n",
    "sse = {}\n",
    "for k in range(1, 11):\n",
    "    kmeans = KMeans(n_clusters=k, random_state=1)\n",
    "    kmeans.fit(df_new)\n",
    "    sse[k] = kmeans.inertia_ # sum of squared distances to the closest cluster centers"
   ]
  },
  {
   "cell_type": "code",
   "execution_count": 110,
   "metadata": {},
   "outputs": [
    {
     "data": {
      "image/png": "[encoded data removed]",
      "text/plain": [
       "<Figure size 432x288 with 1 Axes>"
      ]
     },
     "metadata": {
      "needs_background": "light"
     },
     "output_type": "display_data"
    }
   ],
   "source": [
    "plt.title('Elbow Method')\n",
    "plt.xlabel('k')\n",
    "plt.ylabel('SSE')\n",
    "plt.plot(list(sse.keys()), list(sse.values()), 'bx-')\n",
    "plt.show()"
   ]
  },
  {
   "cell_type": "code",
   "execution_count": 115,
   "metadata": {},
   "outputs": [],
   "source": [
    "## Elbow at K = 3\n",
    "kmeans = KMeans(n_clusters=3, random_state=1)\n",
    "kmeans.fit(df_new)\n",
    "df_kmeans = df_new.assign(cluster=kmeans.labels_)"
   ]
  },
  {
   "cell_type": "code",
   "execution_count": 116,
   "metadata": {},
   "outputs": [
    {
     "data": {
      "text/plain": [
       "Text(0.5, 1.0, 'K-Means Analysis')"
      ]
     },
     "execution_count": 116,
     "metadata": {},
     "output_type": "execute_result"
    },
    {
     "data": {
      "image/png": "[encoded data removed]",
      "text/plain": [
       "<Figure size 360x360 with 1 Axes>"
      ]
     },
     "metadata": {
      "needs_background": "light"
     },
     "output_type": "display_data"
    }
   ],
   "source": [
    "pca_arr = df_kmeans.values\n",
    "fig, ax = plt.subplots(figsize=(5,5))\n",
    "plt.scatter(pca_arr[kmeans.labels_ == 0,0], pca_arr[kmeans.labels_ == 0,1], c= 'g', label=\"Cluster 1\")\n",
    "plt.scatter(pca_arr[kmeans.labels_ == 1,0], pca_arr[kmeans.labels_ == 1,1], c= 'b', label=\"Cluster 2\")\n",
    "plt.scatter(pca_arr[kmeans.labels_ == 2,0], pca_arr[kmeans.labels_ == 2,1], c= 'y', label=\"Cluster 3\")\n",
    "#plt.scatter(pca_arr[kmeans.labels_ == 3,0], pca_arr[kmeans.labels_ == 3,1], c= 'r', label=\"Cluster 4\")\n",
    "plt.xlabel('Fire Size')\n",
    "plt.ylabel('Average AQI')\n",
    "plt.title('K-Means Analysis')\n",
    "\n"
   ]
  }
 ],
 "metadata": {
  "kernelspec": {
   "display_name": "Python 3",
   "language": "python",
   "name": "python3"
  },
  "language_info": {
   "codemirror_mode": {
    "name": "ipython",
    "version": 3
   },
   "file_extension": ".py",
   "mimetype": "text/x-python",
   "name": "python",
   "nbconvert_exporter": "python",
   "pygments_lexer": "ipython3",
   "version": "3.7.1"
  }
 },
 "nbformat": 4,
 "nbformat_minor": 4
}
